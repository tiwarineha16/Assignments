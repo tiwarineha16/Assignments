{
 "cells": [
  {
   "cell_type": "markdown",
   "id": "a96585cb",
   "metadata": {},
   "source": [
    "Q.1. What is the role of the 'else' block in a try-except statement? Provide an example\n",
    "scenario where it would be useful.\n",
    "\n",
    "The 'else' block in a try-except statement is optional and provides a block of code that executes only \n",
    "if no exceptions are raised in the try block. \n",
    "It allows us to specify code that should run when the try block executes successfully, without any exceptions occurrance.\n"
   ]
  },
  {
   "cell_type": "code",
   "execution_count": 4,
   "id": "2d1a4782",
   "metadata": {},
   "outputs": [
    {
     "name": "stdout",
     "output_type": "stream",
     "text": [
      "Enter the numerator: 12\n",
      "Enter the denominator: 23\n",
      "Division is successful. Result: 0.5217391304347826\n"
     ]
    }
   ],
   "source": [
    "# Example where 'else' block would be useful\n",
    "\n",
    "try:\n",
    "    numerator = int(input(\"Enter the numerator: \"))\n",
    "    denominator = int(input(\"Enter the denominator: \"))\n",
    "\n",
    "    output = numerator / denominator\n",
    "\n",
    "except ValueError:\n",
    "    print(\"Error: Invalid input. Please enter integers.\")\n",
    "\n",
    "except ZeroDivisionError:\n",
    "    print(\"Error: Cannot divide by zero.\")\n",
    "\n",
    "else:\n",
    "    print(\"Division is successful. Result:\", output)\n"
   ]
  },
  {
   "cell_type": "code",
   "execution_count": 5,
   "id": "8f759b41",
   "metadata": {},
   "outputs": [
    {
     "name": "stdout",
     "output_type": "stream",
     "text": [
      "Enter a number: 13\n",
      "Result: 7.6923076923076925\n"
     ]
    }
   ],
   "source": [
    "#Q.2  Can a try-except block be nested inside another try-except block? Explain with an example.\n",
    "# Yes, there can be nested try-except block\n",
    "\n",
    "\n",
    "try:\n",
    "    # Outer try block\n",
    "    try:\n",
    "        # Inner try block\n",
    "        num = int(input(\"Enter a number: \"))\n",
    "        output = 100 / num\n",
    "        print(\"Result:\", output)\n",
    "    except ZeroDivisionError:\n",
    "        # Handle division by zero in the inner try block\n",
    "        print(\"Error: Cannot divide by zero\")\n",
    "    except ValueError:\n",
    "        # Handle invalid input in the inner try block\n",
    "        print(\"Error: Invalid input\")\n",
    "    # Outer try block continues...\n",
    "except Exception as e:\n",
    "    # Handle any other exceptions in the outer try block\n",
    "    print(\"An error occurred:\", str(e))"
   ]
  },
  {
   "cell_type": "markdown",
   "id": "d7af66f7",
   "metadata": {},
   "source": [
    "Q.3. How can you create a custom exception class in Python? Provide an example that demonstrates its usage.\n",
    "\n",
    "we can define custom exceptions by creating a new class that is derived from the built-in Exception class."
   ]
  },
  {
   "cell_type": "code",
   "execution_count": 6,
   "id": "17e2d846",
   "metadata": {},
   "outputs": [
    {
     "name": "stdout",
     "output_type": "stream",
     "text": [
      "Enter a number: 13\n",
      "Exception occurred: Invalid Age\n"
     ]
    }
   ],
   "source": [
    "# Example for user-defined exceptions\n",
    "\n",
    "class InvalidAgeException(Exception):\n",
    "    \"Raised when the input value is less than 18\"\n",
    "    pass\n",
    "\n",
    "Age = 18\n",
    "\n",
    "try:\n",
    "    input_num = int(input(\"Enter a number: \"))\n",
    "    if input_num < Age:\n",
    "        raise InvalidAgeException\n",
    "    else:\n",
    "        print(\"Eligible to Vote\")\n",
    "        \n",
    "except InvalidAgeException:\n",
    "    print(\"Exception occurred: Invalid Age\")"
   ]
  },
  {
   "cell_type": "markdown",
   "id": "8ffc6a24",
   "metadata": {},
   "source": [
    "Q.4. What are some common exceptions that are built-in to Python?\n",
    "\n",
    "Some of the most common types of exceptions are:\n",
    "\n",
    "ZeroDivisionError: Raised when the second argument of a division or modulo operation is zero.\n",
    "\n",
    "TypeError: Raised when an operation or function is applied to an object of inappropriate type.\n",
    "\n",
    "IndexError: Raised when a sequence subscript is out of range.\n",
    "\n",
    "KeyError: Raised when a dictionary key is not found.\n",
    "\n",
    "FileNotFoundError: Raised when a file or directory is requested but doesn’t exist.\n",
    "\n",
    "MemoryError: Raised when an operation runs out of memory.\n",
    "\n",
    "SyntaxError: Raised when the parser encounters a syntax error.\n",
    "\n",
    "IndentationError: Raised when there is incorrect indentation.\n",
    "\n",
    "NameError: Raised when a local or global name is not found.\n"
   ]
  },
  {
   "cell_type": "markdown",
   "id": "a5163017",
   "metadata": {},
   "source": [
    "Q.5. What is logging in Python, and why is it important in software development?\n",
    "\n",
    "Logging is a technique for monitoring events that take place when some software is in use.\n",
    "\n",
    "Logging is important in software development for several reasons:\n",
    "\n",
    "1. Debugging and troubleshooting: Logging allows developers to track the flow of execution, identify errors, and understand the state of the application at different stages.\n",
    "\n",
    "2. Error and exception handling: By logging errors and exceptions, developers can capture relevant details such as error messages, stack traces, and context information.\n",
    "\n",
    "3. Performance analysis: Logging enables monitoring the behavior and performance of an application in production environments. \n",
    "\n",
    "4. Documentation: Log messages provide a documented history of the application's execution which can be useful for future reference, analysis, and maintaining a historical context.\n",
    "\n"
   ]
  },
  {
   "cell_type": "markdown",
   "id": "70c2db37",
   "metadata": {},
   "source": [
    "Q.6. Explain the purpose of log levels in Python logging and provide examples of when each log level would be appropriate.\n",
    "\n",
    "The different log levels in increasing order of severity:\n",
    "\n",
    "1. DEBUG: Detailed information, typically of interest only when diagnosing problems.\n",
    "2. INFO: Confirmation that things are working as expected.\n",
    "3. WARNING: An indication that something unexpected happened, or may happen in the future (e.g. ‘disk space low’). The software is still working as expected.\n",
    "4. ERROR: More serious problem that prevented the software from performing a function.\n",
    "5. CRITICAL: A very serious error, indicating that the program itself may be unable to continue running."
   ]
  },
  {
   "cell_type": "code",
   "execution_count": 7,
   "id": "ef3be547",
   "metadata": {},
   "outputs": [
    {
     "name": "stderr",
     "output_type": "stream",
     "text": [
      "ERROR:root:An error occurred while processing the data.\n",
      "CRITICAL:root:Application crashed due to a critical error.\n"
     ]
    }
   ],
   "source": [
    "import logging\n",
    "\n",
    "logging.basicConfig(level=logging.DEBUG)\n",
    "\n",
    "# Debug message\n",
    "logging.debug(\"This is a debug message: {variable}\")\n",
    "\n",
    "\n",
    "logging.basicConfig(level=logging.INFO)\n",
    "\n",
    "# Informational message\n",
    "logging.info(\"Application started.\")\n",
    "\n",
    "\n",
    "logging.basicConfig(level=logging.WARNING)\n",
    "\n",
    "# Warning message\n",
    "logging.warning(\"Disk space is running low.\")\n",
    "\n",
    "logging.basicConfig(level=logging.ERROR)\n",
    "\n",
    "# Error message\n",
    "logging.error(\"An error occurred while processing the data.\")\n",
    "\n",
    "logging.basicConfig(level=logging.CRITICAL)\n",
    "\n",
    "# Critical message\n",
    "logging.critical(\"Application crashed due to a critical error.\")\n"
   ]
  },
  {
   "cell_type": "markdown",
   "id": "7c40e126",
   "metadata": {},
   "source": [
    "Q.7. What are log formatters in Python logging, and how can you customise the log\n",
    "message format using formatters?\n",
    "\n",
    "\n",
    "Log formatters specify the layout of log records in the final output\n",
    "The logging module in Python provides the Formatter class, which is used to configure the log message format. By creating an instance of the Formatter class and associating it with a log handler, we can customize the appearance of log records.\n",
    "\n"
   ]
  },
  {
   "cell_type": "code",
   "execution_count": 10,
   "id": "d3f81a3b",
   "metadata": {},
   "outputs": [
    {
     "name": "stderr",
     "output_type": "stream",
     "text": [
      "2023-07-04 19:44:24,979 - DEBUG - This is a debug message\n",
      "DEBUG:my_logger:This is a debug message\n",
      "2023-07-04 19:44:24,981 - INFO - This is an info message\n",
      "INFO:my_logger:This is an info message\n"
     ]
    }
   ],
   "source": [
    "import logging\n",
    "\n",
    "# Create a log formatter\n",
    "formatter = logging.Formatter('%(asctime)s - %(levelname)s - %(message)s')\n",
    "\n",
    "# Create a log handler and associate the formatter\n",
    "handler = logging.StreamHandler()\n",
    "handler.setFormatter(formatter)\n",
    "\n",
    "# Create a logger and add the handler\n",
    "logger = logging.getLogger('my_logger')\n",
    "logger.addHandler(handler)\n",
    "\n",
    "# Set the log level\n",
    "logger.setLevel(logging.DEBUG)\n",
    "\n",
    "# Log a message\n",
    "logger.debug('This is a debug message')\n",
    "logger.info('This is an info message')\n",
    "\n"
   ]
  },
  {
   "cell_type": "markdown",
   "id": "0e50bc39",
   "metadata": {},
   "source": [
    "Q.8. How can you set up logging to capture log messages from multiple modules or classes in a Python application?\n",
    "\n",
    "We need to create a logger instance using the getLogger() method from the logging module based on the requirements with a unique name.\n",
    "We can add appropriate log handlers to determine where log messages should be sent. We can then set the desired log level \n",
    "and log formatter for each handler to control which log messages are captured and how they are formatted.\n",
    "\n"
   ]
  },
  {
   "cell_type": "code",
   "execution_count": 15,
   "id": "2a01141c",
   "metadata": {},
   "outputs": [
    {
     "name": "stderr",
     "output_type": "stream",
     "text": [
      "This is a debug message\n",
      "This is a debug message\n",
      "DEBUG:my_module:This is a debug message\n",
      "This is an info message\n",
      "This is an info message\n",
      "INFO:my_module:This is an info message\n",
      "This is a warning message\n",
      "This is a warning message\n",
      "WARNING:my_module:This is a warning message\n"
     ]
    }
   ],
   "source": [
    "import logging\n",
    "logging.basicConfig(level=logging.DEBUG, filename='app.log', filemode='w')\n",
    "logger = logging.getLogger('my_module')\n",
    "logger.debug('This is a debug message')\n",
    "logger.info('This is an info message')\n",
    "logger.warning('This is a warning message')\n",
    "logger.setLevel(logging.DEBUG)\n",
    "\n",
    "console_handler = logging.StreamHandler()\n",
    "logger.addHandler(console_handler)\n"
   ]
  },
  {
   "cell_type": "markdown",
   "id": "665ed698",
   "metadata": {},
   "source": [
    "Q.9. What is the difference between the logging and print statements in Python? \n",
    "When should you use logging over print statements in a real-world application?\n",
    "\n",
    "Differences between the logging and print statements are as follows:\n",
    "1. The print statement outputs messages to the console whereas the logging directs log messages to the console, files, email, or external services.\n",
    "2. The logging module supports different log levels (e.g., DEBUG, INFO, WARNING, ERROR, CRITICAL) whereas the print doesn't have such built-in levels.\n",
    "3. Logging is designed to handle and capture runtime errors whereas print statements are not explicitly designed for error handling and require manual handling of exceptions.\n",
    "\n",
    "\n",
    "In real-world applications due to the configurability, manageability, error handling capabilities of the logging module, it is preferred over the print statements."
   ]
  },
  {
   "cell_type": "markdown",
   "id": "9c6701f4",
   "metadata": {},
   "source": [
    "Q.10. Write a Python program that logs a message to a file named \"app.log\" with the\n",
    "following requirements:\n",
    "● The log message should be \"Hello, World!\"\n",
    "● The log level should be set to \"INFO.\"\n",
    "● The log file should append new log entries without overwriting previous ones.\n"
   ]
  },
  {
   "cell_type": "code",
   "execution_count": 13,
   "id": "f39bde34",
   "metadata": {},
   "outputs": [],
   "source": [
    "import logging\n",
    "\n",
    "# Configure logging\n",
    "logging.basicConfig(filename='app.log', level=logging.INFO, filemode='a')\n",
    "\n",
    "# Log the message\n",
    "logging.info('Hello, World!')\n"
   ]
  },
  {
   "cell_type": "markdown",
   "id": "702d09ff",
   "metadata": {},
   "source": [
    "Q.11. Create a Python program that logs an error message to the console and a file named \"errors.log\" if an exception occurs during the program's execution. The error message should include the exception type and a timestamp."
   ]
  },
  {
   "cell_type": "code",
   "execution_count": 14,
   "id": "7f5c84ec",
   "metadata": {},
   "outputs": [
    {
     "name": "stderr",
     "output_type": "stream",
     "text": [
      "ERROR:root:Exception occurred: ZeroDivisionError, Timestamp: 2023-07-04 19:46:13.178716\n"
     ]
    }
   ],
   "source": [
    "import logging\n",
    "import datetime\n",
    "\n",
    "# Configure logging\n",
    "logging.basicConfig(level=logging.ERROR)\n",
    "\n",
    "# Create a file handler for the error log file\n",
    "file_handler = logging.FileHandler('errors.log')\n",
    "\n",
    "logger = logging.getLogger('')\n",
    "\n",
    "try:\n",
    "    # Code that may raise an exception\n",
    "    result = 10 / 0  # Division by zero to raise an exception (ZeroDivisionError)\n",
    "except Exception as e:\n",
    "    # Log the error message\n",
    "    logger.error(f'Exception occurred: {type(e).__name__}, Timestamp: {datetime.datetime.now()}')\n"
   ]
  }
 ],
 "metadata": {
  "kernelspec": {
   "display_name": "Python 3 (ipykernel)",
   "language": "python",
   "name": "python3"
  },
  "language_info": {
   "codemirror_mode": {
    "name": "ipython",
    "version": 3
   },
   "file_extension": ".py",
   "mimetype": "text/x-python",
   "name": "python",
   "nbconvert_exporter": "python",
   "pygments_lexer": "ipython3",
   "version": "3.9.7"
  }
 },
 "nbformat": 4,
 "nbformat_minor": 5
}
