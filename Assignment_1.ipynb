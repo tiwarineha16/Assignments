{
  "nbformat": 4,
  "nbformat_minor": 0,
  "metadata": {
    "colab": {
      "provenance": []
    },
    "kernelspec": {
      "name": "python3",
      "display_name": "Python 3"
    },
    "language_info": {
      "name": "python"
    }
  },
  "cells": [
    {
      "cell_type": "markdown",
      "source": [
        "Q.1 In the below elements which of them are values or an expression? eg:- values can be integer or string and expressions will be mathematical operators. \n",
        "\n",
        "(i) * (ii) 'hello' (iii) -87.8 (iv) - (v) / (vi) + (vii) 6\n",
        "\n",
        "\n",
        "Ans:\n",
        " \n",
        "(i)  * -- Expression \n",
        "\n",
        "(ii) *'hello'* --Value \n",
        "\n",
        "(iii) **-87.8 **-- Value\n",
        "\n",
        "(iv) **-** -- Expression \n",
        "\n",
        "(v) **/** -- Expression \n",
        "\n",
        "(vi) **+** -- Expression\n",
        "\n",
        "(vii) **6** -- Value\n",
        "\n"
      ],
      "metadata": {
        "id": "hZp1Um6S010Z"
      }
    },
    {
      "cell_type": "markdown",
      "source": [
        "Q.2. What is the difference between string and variable?\n",
        "\n",
        "Ans. A ***variable*** is a named location used to store data in memory. Variables are declared by writing the variable name and assigning it a value using the equals sign(=).\n",
        "\n",
        "***Strings*** are sequences of character data. They are created by enclosing characters in quotes.\n",
        "\n",
        "EX: name=\"Neha\" \n",
        "\n",
        "Here name is a variable and \"Neha\" is a string."
      ],
      "metadata": {
        "id": "F6vehkZN1KgG"
      }
    },
    {
      "cell_type": "markdown",
      "source": [
        "**Q.3. Describe three different data types.**\n",
        "\n",
        "***Integers***: Integers are whole numbers, without a fractional component. They can be positive or negative. a = -2 or b =34 \n",
        "\n",
        "***Floats***: Floats represent real numbers and are written with a decimal point. ex: a=10.7 \n",
        "\n",
        "***Strings***: Strings are sequences of character data. They are created by enclosing characters in quotes. name=\"Neha\""
      ],
      "metadata": {
        "id": "z8ibzANp1n5X"
      }
    },
    {
      "cell_type": "markdown",
      "source": [
        "***Q.4: What is an expression made up of? What do all expressions do?***\n",
        "\n",
        "ANS: An expression is a combination of values, variables, operators that can be evaluated to derive or compute a value.\n",
        "They are used to compute values, assign values to variables, control the program flow, and help in invocation of functions\n",
        "\n",
        "Examples of expressions: 2 + 3, a * b\n",
        "\n",
        "\n"
      ],
      "metadata": {
        "id": "91nZBL1Z1HUV"
      }
    },
    {
      "cell_type": "markdown",
      "source": [
        "**Q.5. This assignment statements, like spam = 10. What is the difference between an expression and a statement?** \n",
        "\n",
        "ANS: ***Expression***\n",
        "\n",
        "An expression is a combination of values, variables, operators that can be evaluated to derive or compute a value.\n",
        "\n",
        "Examples of expressions: 2 + 3, a * b\n",
        "\n",
        "\n",
        "***Statement:***\n",
        "\n",
        "A statement is a complete instruction or command that performs an action or controls the flow of execution.\n",
        "Statements do not necessarily produce a value; their primary role is to perform an operation or control program flow.\n",
        "Statements can involve expressions, but their purpose is distinct from that of expressions.\n",
        "\n",
        "Examples of statements: assignment statement (spam = 10)"
      ],
      "metadata": {
        "id": "hzIj88iA5Aop"
      }
    },
    {
      "cell_type": "markdown",
      "source": [
        "**Q. 6. After running the following code, what does the variable bacon contain?**\n",
        "\n",
        "bacon = 22\n",
        "\n",
        "bacon + 1\n",
        "\n",
        "ANS: The value  of bacon will remain unchanged at 22\n",
        "\n",
        "The expression bacon + 1 evaluates to 23, but the result is not assigned or stored in any variable. Therefore, the value of bacon remains unchanged.\n",
        "\n",
        "\n"
      ],
      "metadata": {
        "id": "tLkRlFsc5A_W"
      }
    },
    {
      "cell_type": "markdown",
      "source": [
        "***Q.7. What should the values of the following two terms be?***\n",
        "1. ***'spam' + 'spamspam'***\n",
        "\n",
        "2. ***'spam' * 3***\n",
        "\n",
        "ANS: In both the case value will be **spamspamspam**"
      ],
      "metadata": {
        "id": "KAebn4JR4YiB"
      }
    },
    {
      "cell_type": "markdown",
      "source": [
        "***Q.8: Why is eggs a valid variable name while 100 is invalid?***\n",
        "\n",
        "ANS: Variable names must be valid and follow certain rules:\n",
        "\n",
        "Variable names can contain letters (a-z, A-Z), digits (0-9), and underscores (_).\n",
        "The first character of a variable name cannot be a digit. Therefore, ***eggs*** is a valid variable name while ***100*** is invalid."
      ],
      "metadata": {
        "id": "ai-nADR_6ECG"
      }
    },
    {
      "cell_type": "markdown",
      "source": [
        "Q.9.  ***What three functions can be used to get the integer, floating-point number, or string version of a value?***\n",
        "\n",
        "\n",
        "ANS: functions will be ***int, float, str*** can be used to get the integer, floating-point number or string values \n",
        "\n",
        "ex: number= 10\n",
        "\n",
        "**for integer**\n",
        "number=int(10)\n",
        "\n",
        "**for float**\n",
        "number=float(10)\n",
        "\n",
        "**for string**\n",
        "number=str(10)"
      ],
      "metadata": {
        "id": "lkjIL_CL8nIO"
      }
    },
    {
      "cell_type": "markdown",
      "source": [
        "Q.10 ***Why does this expression cause an error? How can you fix it?***\n",
        "\n",
        "***'I have eaten ' + 99 + ' burritos.'***\n",
        "\n",
        "ANS: the above expression causes an error due to the contenation of string with an integer (99) to fix this we can convert 99 into string and then concatenate the string.\n",
        "\n",
        "'I have eaten ' + str(99) + ' burritos.'\n"
      ],
      "metadata": {
        "id": "BF1AIIB_9o1A"
      }
    }
  ]
}