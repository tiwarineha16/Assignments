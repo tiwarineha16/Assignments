{
  "nbformat": 4,
  "nbformat_minor": 0,
  "metadata": {
    "colab": {
      "provenance": []
    },
    "kernelspec": {
      "name": "python3",
      "display_name": "Python 3"
    },
    "language_info": {
      "name": "python"
    }
  },
  "cells": [
    {
      "cell_type": "markdown",
      "source": [
        "**1.What are the two values of the Boolean data type? How do you write them?**\n",
        "\n",
        "ANS :\n",
        "\n",
        "Two values of the Boolean data type are **'True'** and **'False'**.\n",
        "\n",
        "True: Represents a positive condition.\n",
        "Written as the keyword True (uppercase T).\n",
        "\n",
        "False: Represents a negative condition.\n",
        "Written as the keyword False (uppercase F)."
      ],
      "metadata": {
        "id": "xZznaVXnIMeo"
      }
    },
    {
      "cell_type": "markdown",
      "source": [
        "**2. What are the three different types of Boolean operators?**\n",
        "\n",
        "ANS: \n",
        "\n",
        "The three different types of Boolean operators in Python are:\n",
        "\n",
        "(i). **AND** Operator: The and operator returns True if both of its operands are True, and False otherwise. It evaluates to True only if all the conditions it connects are true.\n",
        "\n",
        "(ii). **OR** Operator: The or operator returns True if at least one of its operands is True, and False if both operands are False. It evaluates to True if any of the connected conditions are true.\n",
        "\n",
        "(iii). **NOT** Operator: The not operator is a unary operator that negates the Boolean value of its operand. It returns True if the operand is False, and False if the operand is True."
      ],
      "metadata": {
        "id": "Mv3VLXcbHlnC"
      }
    },
    {
      "cell_type": "markdown",
      "source": [
        "**3. Make a list of each Boolean operator's truth tables (i.e. every possible combination of Boolean values for the operator and what it evaluate).**\n",
        "\n",
        "![image.png](data:image/png;base64,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)\n"
      ],
      "metadata": {
        "id": "BglfFWn4JVPo"
      }
    },
    {
      "cell_type": "markdown",
      "source": [
        "4. 4. What are the values of the following expressions?\n",
        "(i) (5 > 4) and (3 == 5) -- (True) and (False) == **False**\n",
        "\n",
        "(ii) not (5 > 4) -- not(True) == **False**\n",
        "\n",
        "(iii) (5 > 4) or (3 == 5) -- (True) or (False) == **True**\n",
        "\n",
        "(iv) not ((5 > 4) or (3 == 5)) -- not ((True) or (False)) -- not (True) == **False**\n",
        "\n",
        "(v) (True and True) and (True == False) -- (True) and (False) == **False**\n",
        "\n",
        "(vi) (not False) or (not True) -- True or False == **True**\n"
      ],
      "metadata": {
        "id": "Qa9WkN1OKbHK"
      }
    },
    {
      "cell_type": "markdown",
      "source": [
        "**5. What are the six comparison operators?**\n",
        "\n",
        "Six comparison operator are as follows:\n",
        "\n",
        "1. **==** Equal to\n",
        "2. **!=** Not Equal to\n",
        "3. **>**  Greater Than\n",
        "4. **<**  Less Than\n",
        "5. **>=** Greater Than Equal To\n",
        "6. **<=** Less Than Equal To"
      ],
      "metadata": {
        "id": "xUoDDaUjLd3M"
      }
    },
    {
      "cell_type": "markdown",
      "source": [
        "**6. How do you tell the difference between the equal to and assignment operators? Describe a condition and when you would use one.**\n",
        "\n",
        "ANS:\n",
        "\n",
        "**Equal to** Operator (==): The equal to operator is a comparison operator used to check if two values are equal.\n",
        "\n",
        "ex: a = 5\n",
        "    b = 5\n",
        "    a == b\n",
        "\n",
        "...in the above example value of a and b are compared and since they are equal it will return True\n",
        "\n",
        "**Assignment** Operator (=): The assignment operator is used to assign a value to a variable.\n",
        "\n",
        "ex: x=5 ... In this example the value 5 is not compared it is just assigned to variable x"
      ],
      "metadata": {
        "id": "PUYbCcnGMNXr"
      }
    },
    {
      "cell_type": "markdown",
      "source": [
        "***7. Identify the three blocks in this code:***\n",
        "\n",
        "spam = 0\n",
        "if spam == 10:\n",
        "print('eggs')\n",
        "if spam > 5:\n",
        "print('bacon')\n",
        "else:\n",
        "print('ham')\n",
        "print('spam')\n",
        "print('spam')\n",
        "\n",
        "\n",
        "ANS:\n",
        "\n",
        "Based on the indentation rules the three blocks in the code are:\n",
        "\n",
        "Block 1: Variable assignment (spam = 0)\n",
        "\n",
        "Block 2: if statement (if spam == 10:)\n",
        "\n",
        "Block 3: if statement with else clause and subsequent print statements (if spam > 5: . else: print('spam') print('spam'))"
      ],
      "metadata": {
        "id": "8n8dhbx_MKVa"
      }
    },
    {
      "cell_type": "markdown",
      "source": [
        "***8. Write code that prints Hello if 1 is stored in spam, prints Howdy if 2 is stored in spam, and prints Greetings! if anything else is stored in spam.***\n",
        "\n",
        "spam = 1\n",
        "\n",
        "if spam == 1:\n",
        "    \n",
        "    print(\"Hello\")\n",
        "\n",
        "elif spam == 2:\n",
        "    \n",
        "    print(\"Howdy\")\n",
        "\n",
        "else:\n",
        "    \n",
        "    print(\"Greetings!\")\n"
      ],
      "metadata": {
        "id": "WXLUFMVxPFKW"
      }
    },
    {
      "cell_type": "markdown",
      "source": [
        "***9. If your programme is stuck in an endless loop, what keys you’ll press?***\n",
        "\n",
        "We can press Ctrl + C or Ctrl + Break if a programme is stuck in an endless loop for its termination."
      ],
      "metadata": {
        "id": "iRQLMEoRP2WW"
      }
    },
    {
      "cell_type": "markdown",
      "source": [
        "***10. How can you tell the difference between break and continue?*** \n",
        "\n",
        "ANS: \n",
        "\n",
        "The difference between break and continue is as follows:\n",
        "\n",
        "**break** is used to exit the loop, terminating any further iterations.\n",
        "\n",
        "**continue** is used to skip the current iteration and move on to the next iteration.\n",
        "\n",
        "for i in range(5):\n",
        "    if i == 3:\n",
        "        break\n",
        "    print(i) \n",
        "\n",
        "    this will give the output as 0, 1, 2\n",
        "\n",
        "for i in range(5):\n",
        "    if i == 3:\n",
        "        continue\n",
        "    print(i)  \n",
        "\n",
        "    the output will be 0,1,2,4"
      ],
      "metadata": {
        "id": "4fuSdEFdQQnU"
      }
    },
    {
      "cell_type": "markdown",
      "source": [
        "***11. In a for loop, what is the difference between range(10), range(0, 10), and range(0, 10, 1)?***\n",
        "\n",
        "ANS:\n",
        "\n",
        "The three forms of range() in the for loop generate a sequence of numbers from 0 to 9. The differences is present in how the arguments are specified. range(10) specifies only the stop value, range(0, 10) specifies both the start and stop values, and range(0, 10, 1) specifies the start, stop, and step values explicitly."
      ],
      "metadata": {
        "id": "4_pkG8qaRV21"
      }
    },
    {
      "cell_type": "markdown",
      "source": [
        "***12. Write a short program that prints the numbers 1 to 10 using a for loop. Then write an equivalent program that prints the numbers 1 to 10 using a while loop.***\n",
        "\n",
        "\n",
        "ANS: ***FOR LOOP***\n",
        "\n",
        "for i in range (1,11):\n",
        "    print(i)\n",
        "\n",
        "\n",
        "***WHILE LOOP***\n",
        "\n",
        "count = 1\n",
        "while count <= 10:\n",
        "    print(count)\n",
        "    count += 1"
      ],
      "metadata": {
        "id": "vszciLfpSMxU"
      }
    },
    {
      "cell_type": "markdown",
      "source": [
        "***13. If you had a function named bacon() inside a module named spam, how would you call it after importing spam?***\n",
        "\n",
        "ANS:\n",
        "\n",
        "\n",
        "import spam\n",
        "\n",
        "spam.bacon()\n",
        "\n",
        "After importing spam, we can call the bacon() function using the syntax spam.bacon(). This syntax specifies the module (spam) followed by the function (bacon()) to invoke the bacon() function defined within the spam module.\n"
      ],
      "metadata": {
        "id": "cqJDb67hTEJC"
      }
    }
  ]
}