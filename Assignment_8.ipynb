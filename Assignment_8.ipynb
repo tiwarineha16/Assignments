{
 "cells": [
  {
   "cell_type": "markdown",
   "id": "99dfaaec",
   "metadata": {},
   "source": [
    "Q.1. In Python, what is the difference between a built-in function and a user-defined function? Provide an\n",
    "example of each.\n",
    "\n",
    "Built-in functions: These are pre-defined functions that are provided by Python as part of its standard library. \n",
    "These are available for use without the need for additional coding. \n",
    "Examples of built-in functions include print(), len(), sum(), range(), etc.\n",
    "\n",
    "User-defined functions: These are functions created by users or developers to perform specific tasks. User-defined functions are defined using the def keyword followed by a function name, parameters (optional), and a block of code that \n",
    "constitutes the function's body. Users can define their own functions to suit their specific requirements. \n",
    "example of a user-defined function:\n",
    "\n"
   ]
  },
  {
   "cell_type": "code",
   "execution_count": 4,
   "id": "ecddc741",
   "metadata": {},
   "outputs": [
    {
     "name": "stdout",
     "output_type": "stream",
     "text": [
      "My Name is Neha\n",
      "Hello, Neha!\n"
     ]
    }
   ],
   "source": [
    "# built-in function\n",
    "print(\"My Name is Neha\")\n",
    "\n",
    "# user-defined function\n",
    "def greet(name):\n",
    "    print(\"Hello, \" + name + \"!\")\n",
    "\n",
    "greet(\"Neha\")  # Calling the user-defined function\n"
   ]
  },
  {
   "cell_type": "markdown",
   "id": "9f4d9113",
   "metadata": {},
   "source": [
    "Q.2. How can you pass arguments to a function in Python? Explain the difference between positional\n",
    "arguments and keyword arguments.\n",
    "\n",
    "Positional arguments: These are arguments passed to a function based on their position or order. The number and order of the arguments must match the number and order of the parameters in the function definition.\n",
    "\n",
    "\n",
    "Keyword arguments: These are arguments passed to a function with the parameter name explicitly specified. The order of the arguments does not matter. "
   ]
  },
  {
   "cell_type": "code",
   "execution_count": 2,
   "id": "31dc8761",
   "metadata": {},
   "outputs": [
    {
     "name": "stdout",
     "output_type": "stream",
     "text": [
      "The sum is: 8\n",
      "Hello, Neha! You have 5 of experience.\n"
     ]
    }
   ],
   "source": [
    "# positional argument\n",
    "def add_num(a, b):\n",
    "    result = a + b\n",
    "    print(\"The sum is:\", result)\n",
    "\n",
    "add_num(5, 3)  # Positional arguments: 5 and 3\n",
    "\n",
    "#keyword argument\n",
    "def greet(name, exp):\n",
    "    print(\"Hello, \" + name + \"! You have\", exp, \"of experience.\")\n",
    "\n",
    "greet(name=\"Neha\", exp=5)  # Keyword arguments: name=\"Alice\" and age=25\n",
    "\n"
   ]
  },
  {
   "cell_type": "markdown",
   "id": "3aebbf96",
   "metadata": {},
   "source": [
    "Q.3. What is the purpose of the return statement in a function? Can a function have multiple return\n",
    "statements? Explain with an example.\n",
    "\n",
    "The return statement in a function is used to specify the value or to provide the result or output that the function should return when it is called.\n",
    "A function can have multiple return statements, but only one of them will be executed. When a return statement is encountered,\n",
    "it terminates the function execution immediately and returns the specified value. \n"
   ]
  },
  {
   "cell_type": "code",
   "execution_count": 5,
   "id": "00a02f60",
   "metadata": {},
   "outputs": [
    {
     "name": "stdout",
     "output_type": "stream",
     "text": [
      "False\n",
      "True\n"
     ]
    }
   ],
   "source": [
    "def check_even(num):\n",
    "    if num % 2 == 0:\n",
    "        return True\n",
    "    else:\n",
    "        return False\n",
    "\n",
    "result1 = check_even(5)\n",
    "result2 = check_even(6)\n",
    "\n",
    "print(result1)  # Output: False\n",
    "print(result2)  # Output: True\n"
   ]
  },
  {
   "cell_type": "markdown",
   "id": "8c4de0a3",
   "metadata": {},
   "source": [
    "Q.4.What are lambda functions in Python? How are they different from regular functions? Provide an\n",
    "example where a lambda function can be useful.\n",
    "\n",
    "Lambda functions are functions that can be defined without a name. They are created using the lambda keyword and can take any number of arguments but can only have a single expression.\n",
    "Lambda functions are used when a small, one-time function is required, often as an argument to another function. They are useful in situations where writing a full-fledged function using def would be unnecessary.\n"
   ]
  },
  {
   "cell_type": "code",
   "execution_count": 6,
   "id": "b6304639",
   "metadata": {},
   "outputs": [
    {
     "name": "stdout",
     "output_type": "stream",
     "text": [
      "8\n"
     ]
    }
   ],
   "source": [
    "#lambda function that adds two numbers:\n",
    "add_numbers = lambda x, y: x + y\n",
    "result = add_numbers(5, 3)\n",
    "print(result)  \n"
   ]
  },
  {
   "cell_type": "markdown",
   "id": "6a156382",
   "metadata": {},
   "source": [
    "Q.5.How does the concept of \"scope\" apply to functions in Python? Explain the difference between local\n",
    "scope and global scope.\n",
    "\n",
    "Scope in Python refers to the visibility and accessibility of variables in a program. It determines where a variable can be referenced or accessed.\n",
    "\n",
    "Local scope: Variables defined within a function have local scope. They can only be accessed within the function's body and are not visible outside of it. Local variables are created when the function is called and destroyed when the function completes execution.\n",
    "\n",
    "Global Scope: Variables defined outside any function have global scope. They can be accessed from anywhere within the module, including inside functions. Global variables retain their values throughout the program's execution."
   ]
  },
  {
   "cell_type": "code",
   "execution_count": 11,
   "id": "3b32cf8c",
   "metadata": {},
   "outputs": [
    {
     "name": "stdout",
     "output_type": "stream",
     "text": [
      "Hello\n"
     ]
    },
    {
     "ename": "NameError",
     "evalue": "name 'local_variable' is not defined",
     "output_type": "error",
     "traceback": [
      "\u001b[1;31m---------------------------------------------------------------------------\u001b[0m",
      "\u001b[1;31mNameError\u001b[0m                                 Traceback (most recent call last)",
      "\u001b[1;32m~\\AppData\\Local\\Temp/ipykernel_51880/225624946.py\u001b[0m in \u001b[0;36m<module>\u001b[1;34m\u001b[0m\n\u001b[0;32m      5\u001b[0m \u001b[1;33m\u001b[0m\u001b[0m\n\u001b[0;32m      6\u001b[0m \u001b[0mmy_function\u001b[0m\u001b[1;33m(\u001b[0m\u001b[1;33m)\u001b[0m\u001b[1;33m\u001b[0m\u001b[1;33m\u001b[0m\u001b[0m\n\u001b[1;32m----> 7\u001b[1;33m \u001b[0mprint\u001b[0m\u001b[1;33m(\u001b[0m\u001b[0mlocal_variable\u001b[0m\u001b[1;33m)\u001b[0m  \u001b[1;31m# Error: NameError - local_variable is not defined\u001b[0m\u001b[1;33m\u001b[0m\u001b[1;33m\u001b[0m\u001b[0m\n\u001b[0m\u001b[0;32m      8\u001b[0m \u001b[1;33m\u001b[0m\u001b[0m\n",
      "\u001b[1;31mNameError\u001b[0m: name 'local_variable' is not defined"
     ]
    }
   ],
   "source": [
    "# local scope\n",
    "def my_function():\n",
    "    local_variable = \"Hello\"\n",
    "    print(local_variable)\n",
    "\n",
    "my_function()       \n",
    "print(local_variable)  # Error: NameError - local_variable is not defined \n",
    "\n"
   ]
  },
  {
   "cell_type": "code",
   "execution_count": 12,
   "id": "d8656647",
   "metadata": {},
   "outputs": [
    {
     "name": "stdout",
     "output_type": "stream",
     "text": [
      "Hello\n",
      "Hello\n"
     ]
    }
   ],
   "source": [
    "#global scope\n",
    "global_variable = \"Hello\"\n",
    "\n",
    "def my_function():\n",
    "    print(global_variable)\n",
    "\n",
    "my_function()       \n",
    "print(global_variable) "
   ]
  },
  {
   "cell_type": "markdown",
   "id": "6f3c2428",
   "metadata": {},
   "source": [
    "Q.6.How can you use the \"return\" statement in a Python function to return multiple values?\n",
    "\n",
    "The return statement in a function is used to return a value or values back to the caller.We can return multiple values by returning them as a tuple.\n"
   ]
  },
  {
   "cell_type": "code",
   "execution_count": 17,
   "id": "4c7ce309",
   "metadata": {},
   "outputs": [
    {
     "name": "stdout",
     "output_type": "stream",
     "text": [
      "8\n",
      "2\n",
      "15\n"
     ]
    }
   ],
   "source": [
    "# example demonstrating mutiple returns in a function\n",
    "def calculation(a, b):\n",
    "    summation = a + b\n",
    "    substraction = a - b\n",
    "    product = a * b\n",
    "    return summation, substraction, product\n",
    "\n",
    "result1, result2, result3 = calculation(5, 3)\n",
    "print(result1)  \n",
    "print(result2)  \n",
    "print(result3)  \n"
   ]
  },
  {
   "cell_type": "markdown",
   "id": "d70ca4e8",
   "metadata": {},
   "source": [
    "Q.7.What is the difference between the \"pass by value\" and \"pass by reference\" concepts when it\n",
    "comes to function arguments in Python?\n",
    "\n",
    "\n",
    "The concepts of \"pass by value\" and \"pass by reference\" refer to how function arguments are passed and how they affect the original variables.\n",
    "\n",
    "When we pass function arguments by reference, those arguments are only references to existing values. whereas when pass arguments by value, those arguments become independent copies of the original values\n",
    "\n",
    "Python uses pass by value for immutable objects, such as integers, strings, and tuples. These objects cannot be modified in place, so any modifications made to them within a function will create a new object.\n",
    "\n",
    "\n",
    "Python uses a variation of pass by reference for mutable objects, such as lists and dictionaries. These objects can be modified in place, so any modifications made to them within a function will affect the original object."
   ]
  },
  {
   "cell_type": "code",
   "execution_count": 18,
   "id": "e1ec26cf",
   "metadata": {},
   "outputs": [
    {
     "name": "stdout",
     "output_type": "stream",
     "text": [
      "Inside function: 11\n",
      "Outside function: 10\n"
     ]
    }
   ],
   "source": [
    "#pass by value\n",
    "def increment(num):\n",
    "    num += 1\n",
    "    print(\"Inside function:\", num)\n",
    "\n",
    "number = 10\n",
    "increment(number)\n",
    "print(\"Outside function:\", number)  \n"
   ]
  },
  {
   "cell_type": "code",
   "execution_count": 19,
   "id": "8f0bb06f",
   "metadata": {
    "scrolled": true
   },
   "outputs": [
    {
     "name": "stdout",
     "output_type": "stream",
     "text": [
      "Inside function: [1, 2, 3, 4]\n",
      "Outside function: [1, 2, 3, 4]\n"
     ]
    }
   ],
   "source": [
    "# pass by reference\n",
    "def modify_list(my_list):\n",
    "    my_list.append(4)\n",
    "    print(\"Inside function:\", my_list)\n",
    "\n",
    "my_list = [1, 2, 3]\n",
    "modify_list(my_list)\n",
    "print(\"Outside function:\", my_list)  \n"
   ]
  },
  {
   "cell_type": "markdown",
   "id": "439bc481",
   "metadata": {},
   "source": [
    "Q.8. Create a function that can intake integer or decimal value and do following operations:\n",
    "a. Logarithmic function (log x)\n",
    "b. Exponential function (exp(x))\n",
    "c. Power function with base 2 (2x)\n",
    "d. Square root"
   ]
  },
  {
   "cell_type": "code",
   "execution_count": 29,
   "id": "bdb873b5",
   "metadata": {},
   "outputs": [
    {
     "name": "stdout",
     "output_type": "stream",
     "text": [
      "Logarithm: 1.3862943611198906\n",
      "Exponentiation: 54.598150033144236\n",
      "Power of Two: 16.0\n",
      "Square Root: 2.0\n"
     ]
    }
   ],
   "source": [
    "import math\n",
    "\n",
    "def math_operations(value):\n",
    "    logarithm = math.log(value)\n",
    "    exponent = math.exp(value)\n",
    "    power_of_two = math.pow(2, value)\n",
    "    square_root = math.sqrt(value)\n",
    "    return logarithm, exponent, power_of_two, square_root\n",
    "\n",
    "result = math_operations(4)\n",
    "print(\"Logarithm:\", result[0])\n",
    "print(\"Exponentiation:\", result[1])\n",
    "print(\"Power of Two:\", result[2])\n",
    "print(\"Square Root:\", result[3])\n"
   ]
  },
  {
   "cell_type": "markdown",
   "id": "e833eb68",
   "metadata": {},
   "source": [
    "Q.9.Create a function that takes a full name as an argument and returns first name and last name."
   ]
  },
  {
   "cell_type": "code",
   "execution_count": 31,
   "id": "ff071ac3",
   "metadata": {},
   "outputs": [
    {
     "name": "stdout",
     "output_type": "stream",
     "text": [
      "First Name: Neha\n",
      "Last Name: Tiwari\n"
     ]
    }
   ],
   "source": [
    "def split_names(full_name):\n",
    "    names = full_name.split()\n",
    "    first_name = names[0]\n",
    "    last_name = names[-1]\n",
    "    return first_name, last_name\n",
    "\n",
    "name = \"Neha Tiwari\"\n",
    "first, last = split_names(name)\n",
    "print(\"First Name:\", first)\n",
    "print(\"Last Name:\", last)\n"
   ]
  }
 ],
 "metadata": {
  "kernelspec": {
   "display_name": "Python 3 (ipykernel)",
   "language": "python",
   "name": "python3"
  },
  "language_info": {
   "codemirror_mode": {
    "name": "ipython",
    "version": 3
   },
   "file_extension": ".py",
   "mimetype": "text/x-python",
   "name": "python",
   "nbconvert_exporter": "python",
   "pygments_lexer": "ipython3",
   "version": "3.9.7"
  }
 },
 "nbformat": 4,
 "nbformat_minor": 5
}
