{
  "nbformat": 4,
  "nbformat_minor": 0,
  "metadata": {
    "colab": {
      "provenance": []
    },
    "kernelspec": {
      "name": "python3",
      "display_name": "Python 3"
    },
    "language_info": {
      "name": "python"
    }
  },
  "cells": [
    {
      "cell_type": "markdown",
      "source": [
        "**1. Explain what inheritance is in object-oriented programming and why it is used.**\n",
        "\n",
        "Inheritance is a concept in object-oriented programming (OOP) that allows a new class to inherit attributes and behaviors from an existing class. Inheritance is used to establish a relationship between classes, where the subclass inherits the properties and behaviors of the superclass.\n",
        "\n",
        "Key points about inheritance:\n",
        "\n",
        "**Code Reusability**: Inheritance enables to create a new class based on an existing class, reusing the attributes and methods already defined in the superclass which avoids duplicating code.\n",
        "\n",
        "**Abstraction**: Inheritance supports the concept of abstraction, where common properties and behaviors are defined in the superclass. Subclasses can then focus on the specific differences and specialized behaviors they need to implement which leads to more organized and modular coding.\n",
        "\n",
        "**Hierarchy**: Inheritance creates a hierarchy of classes, where subclasses are more specialized versions of the superclass.\n",
        "\n",
        "**Polymorphism**: Inheritance is closely related to polymorphism, which allows objects of different classes to be treated as objects of a common superclass.\n",
        "\n"
      ],
      "metadata": {
        "id": "2mCd_bFjVQC0"
      }
    },
    {
      "cell_type": "markdown",
      "source": [
        "**2. Discuss the concept of single inheritance and multiple inheritance, highlighting their differences and advantages.**\n",
        "\n",
        "**Single Inheritance:**\n",
        "\n",
        "Single inheritance refers to the situation where a class inherits attributes and behaviors from only one superclass. In other words, a subclass can have only one direct parent class. This is a simpler form of inheritance compared to multiple inheritance.\n",
        "\n",
        "**Advantages of Single Inheritance:**\n",
        " Single inheritance is conceptually simpler to understand and manage. Each subclass has a clear and direct lineage to its superclass, making the code hierarchy more straightforward.\n",
        " Single inheritance eliminates the problem when a class inherits from two classes that have a common base class because there's only one parent class.\n",
        "\n",
        "**Multiple Inheritance:**\n",
        "\n",
        "Multiple inheritance occurs when a class inherits attributes and behaviors from more than one superclass. In this scenario, a subclass can have multiple parent classes, each contributing to the subclass's properties and methods.\n",
        "\n",
        "**Advantages of Multiple Inheritance:**\n",
        "\n",
        " (i) Multiple inheritance allows a class to inherit functionality from multiple sources, enabling more efficient code reuse.\n",
        " (ii) Multiple inheritance can lead to classes that have a rich combination of attributes and behaviors. It allows for the combination of various traits and capabilities from different sources.\n",
        " (iii) Multiple inheritance can be more intuitive for modeling.\n",
        "\n",
        "**Disadvantages:**\n",
        "\n",
        "(i) Multiple inheritance can lead to ambiguity when there are naming conflicts between parent classes.\n",
        "\n",
        "(ii) Complexity: As the number of parent classes increases, code complexity can rise significantly.\n",
        "\n",
        "(iii) Design Considerations: In multiple inheritance, it's important to design classes and relationships carefully to avoid overly complex hierarchies.\n"
      ],
      "metadata": {
        "id": "rAFXO7F9Zc6k"
      }
    },
    {
      "cell_type": "markdown",
      "source": [
        "**3. Explain the terms \"base class\" and \"derived class\" in the context of inheritance.**\n",
        "\n",
        "Base class and Derived class are the terms used to describe the relationship between classes when implementing inheritance. These help in defining the hierarchy and structure of the classes involved.\n",
        "\n",
        "**Base Class (Superclass):**\n",
        "A base class, also known as a superclass or parent class, is the class that provides the attributes and methods that are inherited by other classes. The base class defines the common properties and behaviors shared by its subclasses. The base class encapsulates the core features that are common to all its subclasses.\n",
        "\n",
        "**Derived Class (Subclass):**\n",
        "A derived class, also known as a subclass or child class, is the class that inherits attributes and methods from a base class. It extends the functionality of the base class by adding its own attributes and methods or by modifying the behavior of inherited methods. A derived class can have its own attributes and methods in addition to those inherited from the base class. It inherits the common properties and behaviors of the base class and can introduce new characteristics specific to its purpose."
      ],
      "metadata": {
        "id": "LPQHiB2fayom"
      }
    },
    {
      "cell_type": "code",
      "source": [
        "class Animal:\n",
        "    def __init__(self, species):\n",
        "        self.species = species\n",
        "\n",
        "    def make_sound(self):\n",
        "        pass\n",
        "\n",
        "class Dog(Animal):\n",
        "    def make_sound(self):\n",
        "        return \"Woof!\"\n",
        "\n",
        "class Cat(Animal):\n",
        "    def make_sound(self):\n",
        "        return \"Meow!\"\n",
        "\n",
        "# Animal is the base class\n",
        "# Dog and Cat are derived classes\n"
      ],
      "metadata": {
        "id": "YN1ua-eqb6Vw"
      },
      "execution_count": 1,
      "outputs": []
    },
    {
      "cell_type": "markdown",
      "source": [
        "**4. What is the significance of the \"protected\" access modifier in inheritance? How does it differ from \"private\" and \"public\" modifiers?**\n",
        "\n",
        "In OOPs, access modifiers determine the visibility and accessibility of class attributes and methods within different parts of the program. The three main access modifiers are \"public,\" \"protected,\" and \"private.\" These access modifiers help enforce encapsulation that aims to restrict direct access to internal components of a class\n",
        "\n",
        "**Public Access Modifier:**\n",
        "Attributes and methods are accessible from anywhere, both within the class and from external code.\n",
        "\n",
        "**Private Access Modifier:**\n",
        "Attributes and methods with a double underscore prefix are considered private, and Python applies name mangling to make them less accessible from external code.A double underscore (__) prefix before an attribute or method name is used to indicate that it's \"private.\"\n",
        "\n",
        "**Protected Access Modifier:**\n",
        "Attributes and methods with a single underscore prefix are considered protected, indicating that they shouldn't be accessed from outside the class.A single underscore (_) prefix before an attribute or method name is used to indicate that it's \"protected.\"\n"
      ],
      "metadata": {
        "id": "KaX4J-rDbuUH"
      }
    },
    {
      "cell_type": "code",
      "source": [
        "class Parent:\n",
        "    def __init__(self):\n",
        "        self.public_var = \"public\"\n",
        "        self._protected_var = \"protected\"\n",
        "        self.__private_var = \"private\"\n",
        "\n",
        "class Child(Parent):\n",
        "    def access_protected(self):\n",
        "        print(self._protected_var)  # Protected variable can be accessed in a subclass\n",
        "\n",
        "# Outside the classes\n",
        "p = Parent()\n",
        "print(p.public_var)     # Accessible: public\n",
        "\n",
        "\n",
        "c = Child()\n",
        "c.access_protected()    # Accessing protected variable within a subclass\n",
        "\n"
      ],
      "metadata": {
        "colab": {
          "base_uri": "https://localhost:8080/"
        },
        "id": "wYQFHC9CcdjG",
        "outputId": "686fc2a9-4ac2-4977-9c33-8aa41b85a452"
      },
      "execution_count": 2,
      "outputs": [
        {
          "output_type": "stream",
          "name": "stdout",
          "text": [
            "public\n",
            "protected\n"
          ]
        }
      ]
    },
    {
      "cell_type": "markdown",
      "source": [
        "5. What is the purpose of the \"super\" keyword in inheritance? Provide an example.\n",
        "\n",
        "Ans:\n",
        " The super keyword is used to call a method or access an attribute from the parent class (superclass) of a derived class (subclass) in inheritance. It allows us to reuse and extend the behavior defined in the parent class while  modifying functionality in the derived class. The keyword super helps maintain the connection between the derived class and its parent class."
      ],
      "metadata": {
        "id": "P-CcBjMD27Il"
      }
    },
    {
      "cell_type": "code",
      "source": [
        "class Parent:\n",
        "    def __init__(self, value):\n",
        "        self.value = value\n",
        "\n",
        "    def display(self):\n",
        "        print(\"Parent:\", self.value)\n",
        "\n",
        "\n",
        "class Child(Parent):\n",
        "    def __init__(self, value):\n",
        "        super().__init__(value)\n",
        "        self.value *= 2\n",
        "\n",
        "    def display(self):\n",
        "        super().display()\n",
        "        print(\"Child:\", self.value)\n",
        "\n",
        "\n",
        "child = Child(5)\n",
        "child.display()\n"
      ],
      "metadata": {
        "colab": {
          "base_uri": "https://localhost:8080/"
        },
        "id": "VXya2uEX3RGh",
        "outputId": "6085e140-d6e2-4ad2-afeb-ab655a71eb9d"
      },
      "execution_count": 9,
      "outputs": [
        {
          "output_type": "stream",
          "name": "stdout",
          "text": [
            "Parent: 10\n",
            "Child: 10\n"
          ]
        }
      ]
    },
    {
      "cell_type": "markdown",
      "source": [
        "6. Create a base class called \"Vehicle\" with attributes like \"make\", \"model\", and \"year\". Then, create a derived class called \"Car\" that inherits from \"Vehicle\" and adds an attribute called \"fuel_type\". Implement appropriate methods in both classes."
      ],
      "metadata": {
        "id": "xUIjvv__2aSG"
      }
    },
    {
      "cell_type": "code",
      "source": [
        "class Vehicle:\n",
        "    def __init__(self, make, model, year):\n",
        "        self.make = make\n",
        "        self.model = model\n",
        "        self.year = year\n",
        "\n",
        "    def display_info(self):\n",
        "        return f\"Make: {self.make}\\nModel: {self.model}\\nYear: {self.year}\"\n",
        "\n",
        "\n",
        "class Car(Vehicle):\n",
        "    def __init__(self, make, model, year, fuel_type):\n",
        "        super().__init__(make, model, year)\n",
        "        self.fuel_type = fuel_type\n",
        "\n",
        "    def display_info(self):\n",
        "        base_info = super().display_info()\n",
        "        return f\"{base_info}\\nFuel Type: {self.fuel_type}\"\n",
        "\n",
        "# Creating instances\n",
        "vehicle = Vehicle(make=\"Toyota\", model=\"Camry\", year=2022)\n",
        "car = Car(make=\"Tesla\", model=\"Model 3\", year=2023, fuel_type=\"Electric\")\n",
        "\n",
        "# Displaying information\n",
        "print(\"Vehicle Info:\")\n",
        "print(vehicle.display_info())\n",
        "\n",
        "print(\"\\nCar Info:\")\n",
        "print(car.display_info())\n"
      ],
      "metadata": {
        "colab": {
          "base_uri": "https://localhost:8080/"
        },
        "id": "U64m8wkX2eDA",
        "outputId": "e0303964-c3c9-42b2-ef78-057db0af090c"
      },
      "execution_count": 7,
      "outputs": [
        {
          "output_type": "stream",
          "name": "stdout",
          "text": [
            "Vehicle Info:\n",
            "Make: Toyota\n",
            "Model: Camry\n",
            "Year: 2022\n",
            "\n",
            "Car Info:\n",
            "Make: Tesla\n",
            "Model: Model 3\n",
            "Year: 2023\n",
            "Fuel Type: Electric\n"
          ]
        }
      ]
    },
    {
      "cell_type": "markdown",
      "source": [
        "7.Create a base class called \"Employee\" with attributes like \"name\" and \"salary\"\n",
        "Derive two classes, \"Manager\" and \"Developer,\" from \"Employee.\" Add an additional attribute called \"department\" for the \"Manager\" class and \"programming_language\" for the \"Developer\" class."
      ],
      "metadata": {
        "id": "5Tyr29LBxlep"
      }
    },
    {
      "cell_type": "code",
      "source": [
        "class Employee:\n",
        "    def __init__(self, name, salary):\n",
        "        self.name = name\n",
        "        self.salary = salary\n",
        "\n",
        "    def display_info(self):\n",
        "        return f\"Name: {self.name}\\nSalary: {self.salary}\"\n",
        "\n",
        "\n",
        "class Manager(Employee):\n",
        "    def __init__(self, name, salary, department):\n",
        "        super().__init__(name, salary)\n",
        "        self.department = department\n",
        "\n",
        "    def display_info(self):\n",
        "        base_info = super().display_info()\n",
        "        return f\"{base_info}\\nDepartment: {self.department}\"\n",
        "\n",
        "\n",
        "class Developer(Employee):\n",
        "    def __init__(self, name, salary, programming_language):\n",
        "        super().__init__(name, salary)\n",
        "        self.programming_language = programming_language\n",
        "\n",
        "    def display_info(self):\n",
        "        base_info = super().display_info()\n",
        "        return f\"{base_info}\\nProgramming Language: {self.programming_language}\"\n",
        "\n",
        "# Creating instances\n",
        "manager = Manager(name=\"Gerald Butler\", salary=80000, department=\"Engineering\")\n",
        "developer = Developer(name=\"Jane Smith\", salary=60000, programming_language=\"Python\")\n",
        "\n",
        "# Displaying information\n",
        "print(\"Manager Info:\")\n",
        "print(manager.display_info())\n",
        "\n",
        "print(\"\\nDeveloper Info:\")\n",
        "print(developer.display_info())\n"
      ],
      "metadata": {
        "colab": {
          "base_uri": "https://localhost:8080/"
        },
        "id": "B3xX8uu3xrrx",
        "outputId": "6b788b54-afaa-4664-a180-63bcfa2d5795"
      },
      "execution_count": 8,
      "outputs": [
        {
          "output_type": "stream",
          "name": "stdout",
          "text": [
            "Manager Info:\n",
            "Name: Gerald Butler\n",
            "Salary: 80000\n",
            "Department: Engineering\n",
            "\n",
            "Developer Info:\n",
            "Name: Jane Smith\n",
            "Salary: 60000\n",
            "Programming Language: Python\n"
          ]
        }
      ]
    },
    {
      "cell_type": "markdown",
      "source": [
        "8.Design a base class called \"Shape\" with attributes like \"colour\" and \"border_width.\" Create derived classes, \"Rectangle\" and \"Circle,\" that inherit from \"Shape\" and add specific attributes like \"length\" and \"width\" for the \"Rectangle\" class and \"radius\" for the \"Circle\" class."
      ],
      "metadata": {
        "id": "GApMyNQaw-5h"
      }
    },
    {
      "cell_type": "code",
      "source": [
        "class Shape:\n",
        "    def __init__(self, colour, border_width):\n",
        "        self.colour = colour\n",
        "        self.border_width = border_width\n",
        "\n",
        "    def display_info(self):\n",
        "        return f\"Colour: {self.colour}\\nBorder Width: {self.border_width}\"\n",
        "\n",
        "\n",
        "class Rectangle(Shape):\n",
        "    def __init__(self, colour, border_width, length, width):\n",
        "        super().__init__(colour, border_width)\n",
        "        self.length = length\n",
        "        self.width = width\n",
        "\n",
        "    def display_info(self):\n",
        "        base_info = super().display_info()\n",
        "        return f\"{base_info}\\nLength: {self.length}\\nWidth: {self.width}\"\n",
        "\n",
        "\n",
        "class Circle(Shape):\n",
        "    def __init__(self, colour, border_width, radius):\n",
        "        super().__init__(colour, border_width)\n",
        "        self.radius = radius\n",
        "\n",
        "    def display_info(self):\n",
        "        base_info = super().display_info()\n",
        "        return f\"{base_info}\\nRadius: {self.radius}\"\n",
        "\n",
        "# Creating instances\n",
        "rectangle = Rectangle(colour=\"Blue\", border_width=2, length=10, width=5)\n",
        "circle = Circle(colour=\"Red\", border_width=1, radius=7)\n",
        "\n",
        "# Displaying information\n",
        "print(\"Rectangle Info:\")\n",
        "print(rectangle.display_info())\n",
        "\n",
        "print(\"\\nCircle Info:\")\n",
        "print(circle.display_info())\n"
      ],
      "metadata": {
        "colab": {
          "base_uri": "https://localhost:8080/"
        },
        "id": "SvSv4Wqcw_QN",
        "outputId": "8970ff78-5684-4444-b803-42745df1d7a7"
      },
      "execution_count": 3,
      "outputs": [
        {
          "output_type": "stream",
          "name": "stdout",
          "text": [
            "Rectangle Info:\n",
            "Colour: Blue\n",
            "Border Width: 2\n",
            "Length: 10\n",
            "Width: 5\n",
            "\n",
            "Circle Info:\n",
            "Colour: Red\n",
            "Border Width: 1\n",
            "Radius: 7\n"
          ]
        }
      ]
    },
    {
      "cell_type": "markdown",
      "source": [
        "9.Create a base class called \"Device\" with attributes like \"brand\" and \"model.\" Derive two classes, \"Phone\" and \"Tablet,\" from \"Device.\" Add specific attributes like \"screen_size\" for the \"Phone\" class and \"battery_capacity\" for the \"Tablet\" class."
      ],
      "metadata": {
        "id": "2cWAIk8Xwpcw"
      }
    },
    {
      "cell_type": "code",
      "source": [
        "class Device:\n",
        "    def __init__(self, brand, model):\n",
        "        self.brand = brand\n",
        "        self.model = model\n",
        "\n",
        "    def display_info(self):\n",
        "        return f\"Brand: {self.brand}\\nModel: {self.model}\"\n",
        "\n",
        "\n",
        "class Phone(Device):\n",
        "    def __init__(self, brand, model, screen_size):\n",
        "        super().__init__(brand, model)\n",
        "        self.screen_size = screen_size\n",
        "\n",
        "    def display_info(self):\n",
        "        base_info = super().display_info()\n",
        "        return f\"{base_info}\\nScreen Size: {self.screen_size} inches\"\n",
        "\n",
        "\n",
        "class Tablet(Device):\n",
        "    def __init__(self, brand, model, battery_capacity):\n",
        "        super().__init__(brand, model)\n",
        "        self.battery_capacity = battery_capacity\n",
        "\n",
        "    def display_info(self):\n",
        "        base_info = super().display_info()\n",
        "        return f\"{base_info}\\nBattery Capacity: {self.battery_capacity} mAh\"\n",
        "\n",
        "# Creating instances\n",
        "phone = Phone(brand=\"Apple\", model=\"iPhone 12\", screen_size=6.1)\n",
        "tablet = Tablet(brand=\"Samsung\", model=\"Galaxy Tab S7\", battery_capacity=8000)\n",
        "\n",
        "# Displaying information\n",
        "print(\"Phone Info:\")\n",
        "print(phone.display_info())\n",
        "\n",
        "print(\"\\nTablet Info:\")\n",
        "print(tablet.display_info())\n",
        "\n"
      ],
      "metadata": {
        "colab": {
          "base_uri": "https://localhost:8080/"
        },
        "id": "6YOPIaVEwvhe",
        "outputId": "18152f52-44fe-4159-89de-768ff7006028"
      },
      "execution_count": 4,
      "outputs": [
        {
          "output_type": "stream",
          "name": "stdout",
          "text": [
            "Phone Info:\n",
            "Brand: Apple\n",
            "Model: iPhone 12\n",
            "Screen Size: 6.1 inches\n",
            "\n",
            "Tablet Info:\n",
            "Brand: Samsung\n",
            "Model: Galaxy Tab S7\n",
            "Battery Capacity: 8000 mAh\n"
          ]
        }
      ]
    },
    {
      "cell_type": "markdown",
      "source": [
        "10.Create a base class called \"BankAccount\" with attributes like \"account_number\" and \"balance.\" Derive two classes, \"SavingsAccount\" and \"CheckingAccount,\" from \"BankAccount.\" Add specific methods like \"calculate_interest\" for the \"SavingsAccount\" class and \"deduct_fees\" for the \"CheckingAccount\" class."
      ],
      "metadata": {
        "id": "flhw7hwywZXR"
      }
    },
    {
      "cell_type": "code",
      "source": [
        "class BankAccount:\n",
        "    def __init__(self, account_number, balance):\n",
        "        self.account_number = account_number\n",
        "        self.balance = balance\n",
        "\n",
        "    def deposit(self, amount):\n",
        "        self.balance += amount\n",
        "\n",
        "    def withdraw(self, amount):\n",
        "        if self.balance >= amount:\n",
        "            self.balance -= amount\n",
        "        else:\n",
        "            print(\"Insufficient funds\")\n",
        "\n",
        "    def get_balance(self):\n",
        "        return self.balance\n",
        "\n",
        "\n",
        "class SavingsAccount(BankAccount):\n",
        "    def calculate_interest(self, rate):\n",
        "        interest = self.balance * rate\n",
        "        self.balance += interest\n",
        "\n",
        "\n",
        "class CheckingAccount(BankAccount):\n",
        "    def deduct_fees(self, fee_amount):\n",
        "        if self.balance >= fee_amount:\n",
        "            self.balance -= fee_amount\n",
        "        else:\n",
        "            print(\"Insufficient funds to deduct fees\")\n",
        "\n",
        "# Creating instances\n",
        "savings_account = SavingsAccount(account_number=\"SA12345\", balance=1000)\n",
        "checking_account = CheckingAccount(account_number=\"CA67890\", balance=500)\n",
        "\n",
        "# Using methods\n",
        "savings_account.deposit(200)\n",
        "savings_account.calculate_interest(0.05)\n",
        "\n",
        "checking_account.withdraw(100)\n",
        "checking_account.deduct_fees(10)\n",
        "\n",
        "print(\"Savings Account Balance:\", savings_account.get_balance())\n",
        "print(\"Checking Account Balance:\", checking_account.get_balance())\n",
        "\n"
      ],
      "metadata": {
        "colab": {
          "base_uri": "https://localhost:8080/"
        },
        "id": "gP939V0GwfKA",
        "outputId": "3c8e6b30-eed2-478a-e1c0-4f82e01beef9"
      },
      "execution_count": 5,
      "outputs": [
        {
          "output_type": "stream",
          "name": "stdout",
          "text": [
            "Savings Account Balance: 1260.0\n",
            "Checking Account Balance: 390\n"
          ]
        }
      ]
    }
  ]
}