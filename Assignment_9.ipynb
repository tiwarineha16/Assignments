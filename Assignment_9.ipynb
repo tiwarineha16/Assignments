{
 "cells": [
  {
   "cell_type": "markdown",
   "id": "ae7dfb77",
   "metadata": {},
   "source": [
    "Q.1. What is a lambda function in Python, and how does it differ from a regular function?\n",
    "\n",
    "A lambda function in Python is a function that is created using the lambda keyword, followed by a list of arguments, a colon (:), and an expression. These are used for simple, one-line operations and are commonly passed as arguments to higher-order functions.\n",
    "The main difference between a lambda function and a regular function is that a regular function is defined with the def keyword, and a lambda function is limited to a single expression, while a regular function can have multiple statements and a return statement.\n",
    "\n",
    "\n"
   ]
  },
  {
   "cell_type": "markdown",
   "id": "fa0a8491",
   "metadata": {},
   "source": [
    "Q.2. Can a lambda function in Python have multiple arguments? If yes, how can you define and use\n",
    "them?\n",
    "\n",
    "Yes, a lambda function in Python can have multiple arguments. \n",
    "We can define and use multiple arguments by separating them with commas within the lambda function's argument list.\n"
   ]
  },
  {
   "cell_type": "code",
   "execution_count": 2,
   "id": "2a735751",
   "metadata": {},
   "outputs": [
    {
     "name": "stdout",
     "output_type": "stream",
     "text": [
      "15\n"
     ]
    }
   ],
   "source": [
    "#In this example, the lambda function multiply takes two arguments x and y and returns their product\n",
    "\n",
    "prod = lambda x, y: x * y\n",
    "output = prod(5, 3)\n",
    "print(output)  \n"
   ]
  },
  {
   "cell_type": "markdown",
   "id": "c38e197c",
   "metadata": {},
   "source": [
    "Q.3. How are lambda functions typically used in Python? Provide an example use case.\n",
    "\n",
    "Lambda functions are used in Python in the following scenarios:\n",
    "\n",
    "They can be used wherever function objects are required, like inside functions like map(), filter(), and reduce().\n",
    "Lambda functions are used when one-time function is required, that are not reused throughout your code.\n",
    "For writing concise and readable code when the function logic is simple."
   ]
  },
  {
   "cell_type": "code",
   "execution_count": 3,
   "id": "aa45ccd1",
   "metadata": {},
   "outputs": [
    {
     "name": "stdout",
     "output_type": "stream",
     "text": [
      "[1, 4, 9, 16, 25]\n"
     ]
    }
   ],
   "source": [
    "# Using lambda function with map(), the lambda function lambda x: x**2 is used with the map() function to square number in list\n",
    "numbers = [1, 2, 3, 4, 5]\n",
    "squared_num = list(map(lambda x: x**2, numbers))\n",
    "print(squared_num)  \n"
   ]
  },
  {
   "cell_type": "markdown",
   "id": "fce8c598",
   "metadata": {},
   "source": [
    "Q.4.What are the advantages and limitations of lambda functions compared to regular functions in Python?\n",
    "\n",
    "Advantages of lambda functions compared to regular functions:\n",
    "Lambda functions allows to write small, one-line functions which makes the code more compact and readable.\n",
    "Lambda functions are often used in situations where the functions are not requireed throughot the code.\n",
    "\n",
    "Limitations of lambda functions compared to regular functions:\n",
    "Lambda functions are limited to a single expression, so they cannot contain multiple statements or complex logic.\n",
    "We can't include statements like loops, if, or else in lambda functions; only expressions are allowed.\n"
   ]
  },
  {
   "cell_type": "markdown",
   "id": "a638c4f3",
   "metadata": {},
   "source": [
    "Q.5. Are lambda functions in Python able to access variables defined outside of their own scope?\n",
    "Explain with an example.\n",
    "\n",
    "Yes, lambda functions in Python can access variables defined outside of their own scope through Python's lexical scoping rules. "
   ]
  },
  {
   "cell_type": "code",
   "execution_count": 4,
   "id": "546a7065",
   "metadata": {},
   "outputs": [
    {
     "name": "stdout",
     "output_type": "stream",
     "text": [
      "10\n"
     ]
    }
   ],
   "source": [
    "#Ex: the lambda function lambda x: x * n captures the variable n from the outer scope of the multiply() function\n",
    "\n",
    "def multiply(n):\n",
    "    return lambda x: x * n\n",
    "\n",
    "double = multiply(2)\n",
    "output = double(5)\n",
    "print(output)  \n"
   ]
  },
  {
   "cell_type": "code",
   "execution_count": 5,
   "id": "da6e988d",
   "metadata": {},
   "outputs": [
    {
     "name": "stdout",
     "output_type": "stream",
     "text": [
      "25\n"
     ]
    }
   ],
   "source": [
    "# Q.6. Write a lambda function to calculate the square of a given number.\n",
    "\n",
    "square = lambda x: x**2\n",
    "output = square(5)\n",
    "print(output) \n"
   ]
  },
  {
   "cell_type": "code",
   "execution_count": 8,
   "id": "01852def",
   "metadata": {},
   "outputs": [
    {
     "name": "stdout",
     "output_type": "stream",
     "text": [
      "59\n"
     ]
    }
   ],
   "source": [
    "#Q.7. Create a lambda function to find the maximum value in a list of integers.\n",
    "\n",
    "numbers = [5, 13, 59, 2, 17]\n",
    "maximum = max(numbers, key=lambda x: x)\n",
    "print(maximum) \n"
   ]
  },
  {
   "cell_type": "code",
   "execution_count": 10,
   "id": "a03d3807",
   "metadata": {},
   "outputs": [
    {
     "name": "stdout",
     "output_type": "stream",
     "text": [
      "[2, 14, 16, 18, 100]\n"
     ]
    }
   ],
   "source": [
    "#Q.8. Implement a lambda function to filter out all the even numbers from a list of integers.\n",
    "\n",
    "num_list = [1, 2, 3, 14, 5, 16, 7,18, 9, 100]\n",
    "even_nums = list(filter(lambda x: x % 2 == 0, num_list))\n",
    "print(even_nums) "
   ]
  },
  {
   "cell_type": "code",
   "execution_count": 15,
   "id": "d55b5b36",
   "metadata": {},
   "outputs": [
    {
     "name": "stdout",
     "output_type": "stream",
     "text": [
      "['plum', 'apple', 'berry', 'guava', 'banana', 'cherry', 'pomegranate']\n"
     ]
    }
   ],
   "source": [
    "# Q.9. Write a lambda function to sort a list of strings in ascending order based on the length of each string.\n",
    "\n",
    "strings = [\"apple\", \"banana\", \"pomegranate\",\"cherry\", \"plum\", \"berry\",\"guava\"]\n",
    "sorted_str = sorted(strings, key=lambda x: len(x))\n",
    "print(sorted_str)  \n"
   ]
  },
  {
   "cell_type": "code",
   "execution_count": 16,
   "id": "c604f59e",
   "metadata": {},
   "outputs": [
    {
     "name": "stdout",
     "output_type": "stream",
     "text": [
      "[4, 5, 6]\n"
     ]
    }
   ],
   "source": [
    "#Q.10. Create a lambda function that takes two lists as input and returns a new list containing the \n",
    "# common elements between the two lists.\n",
    "\n",
    "list1 = [1, 2, 3, 4, 5,6]\n",
    "list2 = [4, 5, 6, 7, 8,9]\n",
    "common = list(filter(lambda x: x in list1, list2))\n",
    "print(common) \n"
   ]
  },
  {
   "cell_type": "code",
   "execution_count": 17,
   "id": "83e841b7",
   "metadata": {},
   "outputs": [
    {
     "name": "stdout",
     "output_type": "stream",
     "text": [
      "5040\n"
     ]
    }
   ],
   "source": [
    "#Q.11. Write a recursive function to calculate the factorial of a given positive integer.\n",
    "\n",
    "def factorial(n):\n",
    "    if n == 0:\n",
    "        return 1\n",
    "    else:\n",
    "        return n * factorial(n - 1)\n",
    "\n",
    "output = factorial(7)\n",
    "print(output) \n"
   ]
  },
  {
   "cell_type": "code",
   "execution_count": 18,
   "id": "9456b95c",
   "metadata": {},
   "outputs": [
    {
     "name": "stdout",
     "output_type": "stream",
     "text": [
      "8\n"
     ]
    }
   ],
   "source": [
    "# Q.12. Implement a recursive function to compute the nth Fibonacci number.\n",
    "\n",
    "def fibonacci(n):\n",
    "    if n <= 1:\n",
    "        return n\n",
    "    else:\n",
    "        return fibonacci(n - 1) + fibonacci(n - 2)\n",
    "\n",
    "output = fibonacci(6)\n",
    "print(output) \n"
   ]
  },
  {
   "cell_type": "code",
   "execution_count": 21,
   "id": "8612f337",
   "metadata": {},
   "outputs": [
    {
     "name": "stdout",
     "output_type": "stream",
     "text": [
      "125\n"
     ]
    }
   ],
   "source": [
    "# Q.13. Create a recursive function to find the sum of all the elements in a given list.\n",
    "\n",
    "def sum_elements(list):\n",
    "    if len(list) == 0:\n",
    "        return 0\n",
    "    else:\n",
    "        return list[0] + sum_elements(list[1:])\n",
    "\n",
    "nums = [1, 12, 23, 34, 55]\n",
    "output = sum_elements(nums)\n",
    "print(output)  \n"
   ]
  },
  {
   "cell_type": "code",
   "execution_count": 22,
   "id": "c9e7f83c",
   "metadata": {},
   "outputs": [
    {
     "name": "stdout",
     "output_type": "stream",
     "text": [
      "True\n"
     ]
    }
   ],
   "source": [
    "# Q.14. Write a recursive function to determine whether a given string is a palindrome.\n",
    "\n",
    "def palindrome(string):\n",
    "    if len(string) <= 1:\n",
    "        return True\n",
    "    elif string[0] != string[-1]:\n",
    "        return False\n",
    "    else:\n",
    "        return palindrome(string[1:-1])\n",
    "\n",
    "output = palindrome(\"racecar\")\n",
    "print(output)  \n"
   ]
  },
  {
   "cell_type": "code",
   "execution_count": 24,
   "id": "e7ac4136",
   "metadata": {},
   "outputs": [
    {
     "name": "stdout",
     "output_type": "stream",
     "text": [
      "13\n"
     ]
    }
   ],
   "source": [
    "# Q.15. Implement a recursive function to find the greatest common divisor (GCD) of two positive integers.\n",
    "\n",
    "def gcd(a, b):\n",
    "    if b == 0:\n",
    "        return a\n",
    "    else:\n",
    "        return gcd(b, a % b)\n",
    "\n",
    "output = gcd(39,52)\n",
    "print(output)  \n"
   ]
  }
 ],
 "metadata": {
  "kernelspec": {
   "display_name": "Python 3 (ipykernel)",
   "language": "python",
   "name": "python3"
  },
  "language_info": {
   "codemirror_mode": {
    "name": "ipython",
    "version": 3
   },
   "file_extension": ".py",
   "mimetype": "text/x-python",
   "name": "python",
   "nbconvert_exporter": "python",
   "pygments_lexer": "ipython3",
   "version": "3.9.7"
  }
 },
 "nbformat": 4,
 "nbformat_minor": 5
}
