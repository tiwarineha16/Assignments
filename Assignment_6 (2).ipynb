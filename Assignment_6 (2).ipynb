{
 "cells": [
  {
   "cell_type": "markdown",
   "id": "413a255b",
   "metadata": {},
   "source": [
    "Q.1. What are keywords in python? Using the keyword library, print all the python keywords.\n",
    "\n",
    "Keywords are reserved words that cannot be used as ordinary identifiers. They are used to define the syntax and structure of the Python language.These are immutable, i.e., their meaning and definition can't be altered.\n",
    "These are case-sensitive. For example, False and True are valid keywords, but false and true are not valid keywords.\n"
   ]
  },
  {
   "cell_type": "code",
   "execution_count": 1,
   "id": "9e05406a",
   "metadata": {},
   "outputs": [
    {
     "name": "stdout",
     "output_type": "stream",
     "text": [
      "['False', 'None', 'True', '__peg_parser__', 'and', 'as', 'assert', 'async', 'await', 'break', 'class', 'continue', 'def', 'del', 'elif', 'else', 'except', 'finally', 'for', 'from', 'global', 'if', 'import', 'in', 'is', 'lambda', 'nonlocal', 'not', 'or', 'pass', 'raise', 'return', 'try', 'while', 'with', 'yield']\n"
     ]
    }
   ],
   "source": [
    "\n",
    "# load package\n",
    "import keyword\n",
    "\n",
    "# display all keywords\n",
    "print(keyword.kwlist)"
   ]
  },
  {
   "cell_type": "markdown",
   "id": "879021bf",
   "metadata": {},
   "source": [
    "Q.2. What are the rules to create variables in python?\n",
    "\n",
    "(i)   A variable name must start with a letter or the underscore character.\n",
    "(ii)  A variable name cannot start with a number.\n",
    "(iii) A variable name can only contain alpha-numeric characters and underscores (A-z, 0-9, and _).\n",
    "(iv)  Variable names are case-sensitive (name, Name, and NAME are three different variables).\n"
   ]
  },
  {
   "cell_type": "markdown",
   "id": "393399f5",
   "metadata": {},
   "source": [
    "Q.3. What are the standards and conventions followed for the nomenclature of variables in\n",
    "python to improve code readability and maintainability?\n",
    "\n",
    "1. Variable names should be meaningful and descriptive, indicating the purpose or content of the variable like 'total_sales' or 'customer_names'.\n",
    "2. Use lowercase letters with underscores to separate words in variable names like 'num_of_students'\n",
    "3. Avoid using reserved keywords like 'if','for','else'\n",
    "4. Avoid single-letter variable names like 'A','B'\n",
    "5. Use proper capitalization for constants, use uppercase letters with underscores to separate words. This style is known as UPPER_CASE_SNAKE_CASE. ex, MAX_ATTEMPTS, PI_VALUE\n",
    "\n",
    "\n",
    "\n",
    "\n"
   ]
  },
  {
   "cell_type": "markdown",
   "id": "b513f679",
   "metadata": {},
   "source": [
    "Q.4. What will happen if a keyword is used as a variable name?\n",
    "\n",
    "ANS: If a keyword is used as a variable name in Python, it will throw a syntax error. Keyword are reserved for specific purposes and have predefined meanings therefore they cannot be used as variable names or identifiers"
   ]
  },
  {
   "cell_type": "markdown",
   "id": "3dbf43a9",
   "metadata": {},
   "source": [
    "Q.5. For what purpose def keyword is used?\n",
    "\n",
    "def keyword in Python is used for defining functions.It is followed by the name of the function and a set of parentheses that can contain optional parameters.\n",
    "\n",
    "ex: \n",
    "\n",
    "def greet(name):\n",
    "    print(\"Hello, \" + name + \"!\")\n",
    "\n",
    "#Calling the function\n",
    "\n",
    "greet(\"Neha\")\n"
   ]
  },
  {
   "cell_type": "markdown",
   "id": "8735940b",
   "metadata": {},
   "source": [
    "Q.6. What is the operation of this special character ‘\\’?\n",
    "\n",
    "This special character is known as backslash or escape character which is used for splitting a long string into multiple lines\n",
    "\n",
    "ex: my_string = \"This is a long string that \\\n",
    "spans multiple lines.\"\n",
    "\n",
    "Backslash is also used to introduce escape sequences, which are special character combinations.\n",
    "For example:\n",
    "\n",
    "'\\n' newline character.\n",
    "'\\t' tab character.\n",
    "\n",
    "By using the backslash followed by a specific character, we can include special characters within strings and control output formats.\n"
   ]
  },
  {
   "cell_type": "markdown",
   "id": "8fbca58d",
   "metadata": {},
   "source": [
    "Q.7. Give an example of the following conditions:\n",
    "\n",
    "(i) Homogeneous list\n",
    "\n",
    "my_list=[1,2,3,4]\n",
    "\n",
    "(ii) Heterogeneous set\n",
    "\n",
    "my_set=[1,2,3.4,4,'apple',False]\n",
    "\n",
    "(iii) Homogeneous tuple\n",
    "\n",
    "my_tuple = ('apple','kiwi','orange','fruits')"
   ]
  },
  {
   "cell_type": "markdown",
   "id": "e079a739",
   "metadata": {},
   "source": [
    "Q.8. Explain the mutable and immutable data types with proper explanation & examples.\n",
    "\n",
    "\n",
    "ANS: Immutable data types cannot be changed or modified by adding, removing or changing elements after they are created\n",
    ",while mutable data types can be modified directly after they are created.\n",
    "\n",
    "\n",
    "Immutable Data Types: Tuples \n",
    "    my_tuple=(1,2,3)\n",
    "    my_tuple[0]=5\n",
    "This will give an error as the tuples are immutable and 5 cannot be assigned at 0 index\n",
    "\n",
    "Mutable Data Types : Lists, Sets and Dictionaries\n",
    "\n",
    "my_list = [1, 2, 3]\n",
    "my_list.append(4)  # Appending the list \n",
    "my_list[1] = 5  # Modifying an element in the list at index 1\n",
    "print(my_list)  # Output: [1, 5, 3, 4]\n",
    "\n",
    "my_set = {1, 2, 3}\n",
    "my_set.add(4)  # Adding an element to the set\n",
    "my_set.remove(2)  # Removing an element from the set\n",
    "print(my_set)\n",
    "\n",
    "my_dict = {\"a\": 1, \"b\": 2}\n",
    "my_dict[\"c\"] = 3  # Adding a new key-value pair\n",
    "del my_dict[\"b\"]  # Deleting a key-value pair\n",
    "print(my_dict) \n",
    "\n",
    "    "
   ]
  },
  {
   "cell_type": "raw",
   "id": "c51f1322",
   "metadata": {},
   "source": [
    "Q.9. Write a code to create the given structure using only for loop.\n",
    "\n",
    "    *\n",
    "   ***\n",
    "  *****\n",
    " *******\n",
    "*********"
   ]
  },
  {
   "cell_type": "code",
   "execution_count": 3,
   "id": "7a8e8bed",
   "metadata": {},
   "outputs": [
    {
     "name": "stdout",
     "output_type": "stream",
     "text": [
      "      *\n",
      "     ***\n",
      "    *****\n",
      "   *******\n",
      "  *********\n"
     ]
    }
   ],
   "source": [
    "n=6\n",
    "for i in range(n-1):\n",
    "    for j in range(i,n):\n",
    "        print(\" \",end=\"\")\n",
    "    for j in range(i):\n",
    "        print(\"*\",end=\"\")\n",
    "    for j in range(i+1):\n",
    "        print(\"*\",end=\"\")\n",
    "    print()\n"
   ]
  },
  {
   "cell_type": "raw",
   "id": "92e2df2b",
   "metadata": {},
   "source": [
    "Q.10. Write a code to create the given structure using while loop.\n",
    "\n",
    "|||||||||\n",
    " |||||||\n",
    "  |||||\n",
    "   |||\n",
    "    |"
   ]
  },
  {
   "cell_type": "code",
   "execution_count": 2,
   "id": "799b3bec",
   "metadata": {},
   "outputs": [
    {
     "name": "stdout",
     "output_type": "stream",
     "text": [
      " |||||||||\n",
      "  |||||||\n",
      "   |||||\n",
      "    |||\n",
      "     |\n"
     ]
    }
   ],
   "source": [
    "n=5\n",
    "for i in range(n):    \n",
    "    for j in range(i+1):\n",
    "        print(\" \",end=\"\")\n",
    "    for j in range(i,n-1):\n",
    "        print(\"|\",end=\"\")\n",
    "    for j in range(i,n):\n",
    "        print(\"|\",end=\"\")\n",
    "    print()"
   ]
  }
 ],
 "metadata": {
  "kernelspec": {
   "display_name": "Python 3 (ipykernel)",
   "language": "python",
   "name": "python3"
  },
  "language_info": {
   "codemirror_mode": {
    "name": "ipython",
    "version": 3
   },
   "file_extension": ".py",
   "mimetype": "text/x-python",
   "name": "python",
   "nbconvert_exporter": "python",
   "pygments_lexer": "ipython3",
   "version": "3.9.7"
  }
 },
 "nbformat": 4,
 "nbformat_minor": 5
}
