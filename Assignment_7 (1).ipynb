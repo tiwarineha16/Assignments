{
 "cells": [
  {
   "cell_type": "markdown",
   "id": "e4b46284",
   "metadata": {},
   "source": [
    "Q.1. Create two int type variables, apply addition, subtraction, division and multiplications\n",
    "and store the results in variables. Then print the data in the following format by calling the\n",
    "variables:\n",
    "First variable is __ & second variable is __.\n",
    "Addition: __ + __ = __\n",
    "Subtraction: __ - __ = __\n",
    "Multiplication: __ * __ = __\n",
    "Division: __ / __ = __"
   ]
  },
  {
   "cell_type": "code",
   "execution_count": 1,
   "id": "68e216e2",
   "metadata": {},
   "outputs": [
    {
     "name": "stdout",
     "output_type": "stream",
     "text": [
      "First variable is 10 & second variable is 5\n",
      "Addition: 10 + 5 = 15\n",
      "Subtraction: 10 - 5 = 5\n",
      "Multiplication: 10 * 5 = 50\n",
      "Division: 10 / 5 = 2.0\n"
     ]
    }
   ],
   "source": [
    "# Creating two int variables\n",
    "first_var = 10\n",
    "second_var = 5\n",
    "\n",
    "print(\"First variable is\", first_var, \"& second variable is\", second_var)\n",
    "\n",
    "# Performing arithmetic operations and storing results\n",
    "addition_result = first_var + second_var\n",
    "subtraction_result = first_var - second_var\n",
    "multiplication_result = first_var * second_var\n",
    "division_result = first_var / second_var\n",
    "\n",
    "# Printing the results in the desired format\n",
    "\n",
    "print(\"Addition:\", first_var, \"+\", second_var, \"=\", addition_result)\n",
    "print(\"Subtraction:\", first_var, \"-\", second_var, \"=\", subtraction_result)\n",
    "print(\"Multiplication:\", first_var, \"*\", second_var, \"=\", multiplication_result)\n",
    "print(\"Division:\", first_var, \"/\", second_var, \"=\", division_result)\n"
   ]
  },
  {
   "cell_type": "markdown",
   "id": "e9286a3d",
   "metadata": {},
   "source": [
    "Q.2. What is the difference between the following operators:\n",
    "(i) ‘/’ & ‘//’\n",
    "(ii) ‘**’ & ‘^’\n",
    "\n",
    "(i) '/' and '//':\n",
    "\n",
    "'/' is the division operator in Python. It performs regular division and returns the quotient as a float. \n",
    "\n",
    "'//' is the floor division operator in Python. It performs division and returns the quotient as an integer by discarding the fractional part (the decimal digits).\n",
    "\n",
    "(ii)'**' and '^':\n",
    "\n",
    "'**' is the exponentiation operator in Python. It is used to raise a number to a power.\n",
    "\n",
    "'^' It is the bitwise XOR operator. It performs a bitwise exclusive OR operation on the binary representation of the numbers. It is used for bitwise manipulation, not exponentiation."
   ]
  },
  {
   "cell_type": "code",
   "execution_count": 2,
   "id": "51686c10",
   "metadata": {},
   "outputs": [
    {
     "name": "stdout",
     "output_type": "stream",
     "text": [
      "3.3333333333333335\n",
      "3\n",
      "8\n",
      "1\n"
     ]
    }
   ],
   "source": [
    "regular_division = 10 / 3\n",
    "floor_division = 10 // 3\n",
    "\n",
    "print(regular_division) \n",
    "print(floor_division)  \n",
    "\n",
    "exponentiation = 2 ** 3\n",
    "bitwise_xor = 2 ^ 3\n",
    "\n",
    "print(exponentiation)  \n",
    "print(bitwise_xor)  \n",
    "\n"
   ]
  },
  {
   "cell_type": "markdown",
   "id": "f8ce67e3",
   "metadata": {},
   "source": [
    "Q.3. List the logical operators.\n",
    "\n",
    "Three logical operators are as given below:\n",
    "(i)   Logical AND\n",
    "(ii)  Logical OR\n",
    "(iii) Logical NOT\n",
    "\n"
   ]
  },
  {
   "cell_type": "code",
   "execution_count": 3,
   "id": "f6701c83",
   "metadata": {},
   "outputs": [
    {
     "name": "stdout",
     "output_type": "stream",
     "text": [
      "Logical AND results is: False\n",
      "Logical OR results is: True\n",
      "Logical Not results is: False\n"
     ]
    }
   ],
   "source": [
    "a=True\n",
    "b=False\n",
    "\n",
    "print(\"Logical AND results is:\", a and b) \n",
    "print(\"Logical OR results is:\", a or b)  \n",
    "print(\"Logical Not results is:\", not a)   \n"
   ]
  },
  {
   "cell_type": "markdown",
   "id": "07357f64",
   "metadata": {},
   "source": [
    "Q.4. Explain right shift operator and left shift operator with examples.\n",
    "\n",
    "Right Shift Operator (>>): Shifts the bits of the number to the right by the number of bits specified. \n",
    "Each shift to the right corresponds to dividing the number by 2.\n",
    "\n",
    "Left Shift Operator (<<): Shifts the bits of the number to the left by the number of bits specified. \n",
    "Each shift to the left corresponds to multiplying the number by 2."
   ]
  },
  {
   "cell_type": "code",
   "execution_count": 7,
   "id": "6638d9d6",
   "metadata": {},
   "outputs": [
    {
     "name": "stdout",
     "output_type": "stream",
     "text": [
      "2\n",
      "40\n"
     ]
    }
   ],
   "source": [
    "\n",
    "a = 10       \n",
    "result = a >> 2  \n",
    "print(result)\n",
    "\n",
    "#In this example, the number 10 has a binary representation of 1010. When we perform a right shift by 2 positions (num >> 2), \n",
    "#the bits shift to the right by 2 positions, resulting in the binary 10, which is equal to 2 in decimal.\n",
    "\n",
    "\n",
    "a = 10        \n",
    "result = a << 2 \n",
    "print(result)\n",
    "\n",
    "#In this example, the number 5 has a binary representation of 101. When we perform a left shift by 3 positions (num << 3),\n",
    "# the bits shift to the left by 3 positions, resulting in the binary 101000, which is equal to 40 in decimal."
   ]
  },
  {
   "cell_type": "markdown",
   "id": "b96fb44d",
   "metadata": {},
   "source": [
    "Q.5. Create a list containing int type data of length 15. Then write a code to check if 10 is\n",
    "present in the list or not."
   ]
  },
  {
   "cell_type": "code",
   "execution_count": 8,
   "id": "3fa158e8",
   "metadata": {},
   "outputs": [
    {
     "name": "stdout",
     "output_type": "stream",
     "text": [
      "10 is present in the list.\n"
     ]
    }
   ],
   "source": [
    "# Create a list of length 15 with integer type data\n",
    "my_list = [2, 5, 8, 10, 12, 15, 18, 200, 23, 205, 28, 30, 33, 3, 80]\n",
    "\n",
    "# Check if 10 is present in the list\n",
    "if 10 in my_list:\n",
    "    print(\"10 is present in the list.\")\n",
    "else:\n",
    "    print(\"10 is not present in the list.\")\n"
   ]
  }
 ],
 "metadata": {
  "kernelspec": {
   "display_name": "Python 3 (ipykernel)",
   "language": "python",
   "name": "python3"
  },
  "language_info": {
   "codemirror_mode": {
    "name": "ipython",
    "version": 3
   },
   "file_extension": ".py",
   "mimetype": "text/x-python",
   "name": "python",
   "nbconvert_exporter": "python",
   "pygments_lexer": "ipython3",
   "version": "3.9.7"
  }
 },
 "nbformat": 4,
 "nbformat_minor": 5
}
