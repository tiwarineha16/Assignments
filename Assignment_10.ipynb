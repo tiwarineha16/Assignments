{
 "cells": [
  {
   "cell_type": "markdown",
   "id": "af6f9667",
   "metadata": {},
   "source": [
    "Q.1. What is the role of try and exception block?\n",
    "\n",
    "The role of a try-except block in Python is to handle exceptions that may occur during the execution of a program. It allows to catch and handle specific types of exceptions, preventing the program from abruptly terminating and thus handing the exceptional conditions."
   ]
  },
  {
   "cell_type": "markdown",
   "id": "f29e5377",
   "metadata": {},
   "source": [
    "Q.2. What is the syntax for a basic try-except block?\n",
    "\n",
    "try:\n",
    "    # Code that may raise an exception\n",
    "except ExceptionType:\n",
    "    # Code to handle the exception\n",
    "   \n"
   ]
  },
  {
   "cell_type": "markdown",
   "id": "923f5044",
   "metadata": {},
   "source": [
    "Q.3. What happens if an exception occurs inside a try block and there is no matching except block?\n",
    "\n",
    "If an exception is thrown inside the try block and there is no block to handle the exception, the finally block still executes, the exception is thrown immediately after the finally block finishes execution."
   ]
  },
  {
   "cell_type": "markdown",
   "id": "f10ed225",
   "metadata": {},
   "source": [
    "Q.4. What is the difference between using a bare except block and specifying a specific exception type?\n",
    "\n",
    "A bare except block, written as except:, will catch any exception that occurs within the try block, regardless of its type. It is generally recommended to avoid using bare except blocks.\n",
    "Specifying a specific exception type, such as except ValueError:, allows to catch and handle only the specified type of exception. This allows for more precise exception handling based on the type of exception."
   ]
  },
  {
   "cell_type": "markdown",
   "id": "9e44df6c",
   "metadata": {},
   "source": [
    "Q.5. Can you have nested try-except blocks in Python? If yes, then give an example.\n",
    "\n",
    "Yes, nested try-except blocks are allowed in Python. "
   ]
  },
  {
   "cell_type": "code",
   "execution_count": 1,
   "id": "17a63268",
   "metadata": {},
   "outputs": [
    {
     "name": "stdout",
     "output_type": "stream",
     "text": [
      "Enter a number: 50\n",
      "Result: 2.0\n"
     ]
    }
   ],
   "source": [
    "# Example of nested try-except block\n",
    "try:\n",
    "    # Outer try block\n",
    "    try:\n",
    "        # Inner try block\n",
    "        num = int(input(\"Enter a number: \"))\n",
    "        output = 100 / num\n",
    "        print(\"Result:\", output)\n",
    "    except ZeroDivisionError:\n",
    "        # Handle division by zero in the inner try block\n",
    "        print(\"Error: Cannot divide by zero\")\n",
    "    except ValueError:\n",
    "        # Handle invalid input in the inner try block\n",
    "        print(\"Error: Invalid input\")\n",
    "    # Outer try block continues...\n",
    "except Exception as e:\n",
    "    # Handle any other exceptions in the outer try block\n",
    "    print(\"An error occurred:\", str(e))\n"
   ]
  },
  {
   "cell_type": "markdown",
   "id": "5f6bc7b1",
   "metadata": {},
   "source": [
    "Q.6. Can we use multiple exception blocks, if yes then give an example.\n",
    "\n",
    "yes, we can use multiple exception blocks"
   ]
  },
  {
   "cell_type": "code",
   "execution_count": 4,
   "id": "debb546f",
   "metadata": {},
   "outputs": [
    {
     "name": "stdout",
     "output_type": "stream",
     "text": [
      "Enter the first number: 100\n",
      "Enter the second number: 0\n",
      "Error: Division by zero is not allowed.\n"
     ]
    }
   ],
   "source": [
    "# Example for multiple exception blocks\n",
    "try:\n",
    "    # Code that may raise an exception\n",
    "    num1 = int(input(\"Enter the first number: \"))\n",
    "    num2 = int(input(\"Enter the second number: \"))\n",
    "    output = num1 / num2\n",
    "    print(\"Result:\", output)\n",
    "except ValueError:\n",
    "    # Handle ValueError if the input is not a valid integer\n",
    "    print(\"Error: Invalid input. Please enter integers.\")\n",
    "except ZeroDivisionError:\n",
    "    # Handle ZeroDivisionError if the second number is zero\n",
    "    print(\"Error: Division by zero is not allowed.\")\n",
    "except Exception as e:\n",
    "    # Handle any other exceptions\n",
    "    print(\"An error occurred:\", str(e))\n"
   ]
  },
  {
   "cell_type": "markdown",
   "id": "639ccc27",
   "metadata": {},
   "source": [
    "Q. 7. Write the reason due to which following errors are raised:\n",
    "a. EOFError -- Raised when the input() function hits an end-of-file condition (EOF).\n",
    "b. FloatingPointError -- Raised when a floating point operation fails.\n",
    "c. IndexError-- Raised when a sequence subscript (index) is out of range.\n",
    "d. MemoryError -- Raised when an operations runs out of memory.\n",
    "e. OverflowError -- Raised when the result of an arithmetic operation is too large to be expressed.\n",
    "f. TabError -- Raised when indentation containes mixed tabs and spaces.\n",
    "g. ValueError -- Raised when a built-in operation or function receives an argument that has the right \n",
    "type but an inappropriate value."
   ]
  },
  {
   "cell_type": "code",
   "execution_count": 5,
   "id": "778a806a",
   "metadata": {},
   "outputs": [
    {
     "name": "stdout",
     "output_type": "stream",
     "text": [
      "Enter the numerator: 24\n",
      "Enter the denominator: 0\n",
      "Error: Cannot divide by zero\n"
     ]
    }
   ],
   "source": [
    "#Q.8. Write code for the following given scenario and add try-exception block to it.\n",
    "#a. Program to divide two numbers\n",
    "\n",
    "try:\n",
    "    numerator = int(input(\"Enter the numerator: \"))\n",
    "    denominator = int(input(\"Enter the denominator: \"))\n",
    "    output = numerator / denominator\n",
    "    print(\"Result:\", output)\n",
    "except ZeroDivisionError:\n",
    "    print(\"Error: Cannot divide by zero\")\n",
    "except ValueError:\n",
    "    print(\"Error: Invalid input. Please enter integers.\")\n",
    "\n"
   ]
  },
  {
   "cell_type": "code",
   "execution_count": 9,
   "id": "5b07065a",
   "metadata": {},
   "outputs": [
    {
     "name": "stdout",
     "output_type": "stream",
     "text": [
      "Enter a number: 34\n",
      "<class 'str'>\n",
      "Number: 34\n",
      "<class 'int'>\n"
     ]
    }
   ],
   "source": [
    "#b. Program to convert a string to an integer\n",
    "\n",
    "try:\n",
    "    string_num = input(\"Enter a number: \")\n",
    "    print(type(string_num))\n",
    "    num = int(string_num)\n",
    "    print(\"Number:\", num)\n",
    "except ValueError:\n",
    "    print(\"Error: Invalid input. Please enter a valid integer.\")\n",
    "print(type(num))"
   ]
  },
  {
   "cell_type": "code",
   "execution_count": 11,
   "id": "1d0880ae",
   "metadata": {},
   "outputs": [
    {
     "name": "stdout",
     "output_type": "stream",
     "text": [
      "Enter the index: 4\n",
      "Element at index 4 : 5\n"
     ]
    }
   ],
   "source": [
    "#c. Program to access an element in a list\n",
    "try:\n",
    "    my_list = [1, 2, 3, 4, 5,6,8]\n",
    "    index = int(input(\"Enter the index: \"))\n",
    "    element = my_list[index]\n",
    "    print(\"Element at index\", index, \":\", element)\n",
    "except IndexError:\n",
    "    print(\"Error: Index out of range\")\n",
    "except ValueError:\n",
    "    print(\"Error: Invalid input. Please enter a valid integer as the index.\")\n"
   ]
  },
  {
   "cell_type": "code",
   "execution_count": 15,
   "id": "5eb7141d",
   "metadata": {},
   "outputs": [
    {
     "name": "stdout",
     "output_type": "stream",
     "text": [
      "Enter the numerator: 12\n",
      "Enter the denominator: 0\n",
      "Error: Denominator cannot be zero\n"
     ]
    }
   ],
   "source": [
    "#d. Program to handle a specific exception\n",
    "\n",
    "try:\n",
    "    numerator = int(input(\"Enter the numerator: \"))\n",
    "    denominator = int(input(\"Enter the denominator: \"))\n",
    "\n",
    "    if denominator == 0:\n",
    "        raise ValueError(\"Denominator cannot be zero\")\n",
    "\n",
    "    output = numerator / denominator\n",
    "    print(\"Result:\", output)\n",
    "\n",
    "except ValueError as e:\n",
    "    print(\"Error:\", str(e))\n",
    "\n",
    "\n"
   ]
  },
  {
   "cell_type": "code",
   "execution_count": 17,
   "id": "5387856a",
   "metadata": {},
   "outputs": [
    {
     "name": "stdout",
     "output_type": "stream",
     "text": [
      "Enter the numerator: 23\n",
      "Enter the denominator: 0\n",
      "An error occurred: division by zero\n"
     ]
    }
   ],
   "source": [
    "#e. Program to handle any exception\n",
    "\n",
    "try:\n",
    "    numerator = int(input(\"Enter the numerator: \"))\n",
    "    denominator = int(input(\"Enter the denominator: \"))\n",
    "\n",
    "    output = numerator / denominator\n",
    "    print(\"Result:\", output)\n",
    "\n",
    "except Exception as e:\n",
    "    print(\"An error occurred:\", str(e))\n"
   ]
  }
 ],
 "metadata": {
  "kernelspec": {
   "display_name": "Python 3 (ipykernel)",
   "language": "python",
   "name": "python3"
  },
  "language_info": {
   "codemirror_mode": {
    "name": "ipython",
    "version": 3
   },
   "file_extension": ".py",
   "mimetype": "text/x-python",
   "name": "python",
   "nbconvert_exporter": "python",
   "pygments_lexer": "ipython3",
   "version": "3.9.7"
  }
 },
 "nbformat": 4,
 "nbformat_minor": 5
}
