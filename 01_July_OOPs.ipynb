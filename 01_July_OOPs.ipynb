{
  "nbformat": 4,
  "nbformat_minor": 0,
  "metadata": {
    "colab": {
      "provenance": [],
      "toc_visible": true
    },
    "kernelspec": {
      "name": "python3",
      "display_name": "Python 3"
    },
    "language_info": {
      "name": "python"
    }
  },
  "cells": [
    {
      "cell_type": "markdown",
      "source": [
        "1.\tWhat is the primary goal of Object-Oriented Programming (OOP)?\n",
        "\n",
        "\n",
        "The primary goal of Object-Oriented Programming (OOP) is to organize and model real-world entities and their interactions in a manageable way within computer programs. OOPs structures code around the concept of objects, which are instances of classes. Principles of OOPs include Encapsulation, Abstraction, Inheritance and Polymorphism.\n",
        "\n",
        "1.\t**Encapsulation**: Encapsulation refers to the bundling of data (attributes) and the methods (functions) that operate on the data into a single unit, known as a class.\n",
        "2.\t**Abstraction**: Abstraction simplifies complex reality by modeling classes based on their essential characteristics.\n",
        "3.\t**Inheritance**: Inheritance allows the creation of new classes that are based on existing classes, inheriting their attributes and behaviors.\n",
        "4.\t**Polymorphism**: Polymorphism enables the ability of different classes to be treated as instances of a common superclass.\n"
      ],
      "metadata": {
        "id": "-9UX27RUT8HX"
      }
    },
    {
      "cell_type": "markdown",
      "source": [
        "2.\tWhat is an object in Python?\n",
        "\n",
        "An object represents a data structure within a program. Objects in Python have both data attributes and associated functions methods that can operate on data.\n"
      ],
      "metadata": {
        "id": "N3yALqRiTgo6"
      }
    },
    {
      "cell_type": "code",
      "source": [
        "class Person:\n",
        "  def __init__(self,name,occupation):\n",
        "            self.name=name\n",
        "            self.occupation=occupation\n",
        "  def introduction(self):\n",
        "        print(f\"Hi, I'm {self.name} and I'm {self.occupation}.\")\n",
        "\n",
        "person1 = Person(\"Neha\", \"Student\")\n",
        "\n",
        "#The person1 object is an instance of the Person class, and we can access its attributes and call its methods using dot notation.\n"
      ],
      "metadata": {
        "id": "7GPfz8gYPJza"
      },
      "execution_count": 20,
      "outputs": []
    },
    {
      "cell_type": "markdown",
      "source": [
        "3. What is a class in Python?\n",
        "\n",
        "A class is a template or blueprint for creating objects. It defines the structure and behavior that objects of that class."
      ],
      "metadata": {
        "id": "PvcRp6p_TJUm"
      }
    },
    {
      "cell_type": "code",
      "source": [
        "Class Person:\n",
        "   def __init__(self,name,occupation):\n",
        "            self.name=name\n",
        "            self.occupation=occupation\n",
        "\n",
        "def introduction(self):\n",
        "        print(f\"Hi, I'm {self.name} and I'm {self.occupation}.\")\n",
        "        person1 = Person(\"Neha\", \"Student\")\n",
        "\n",
        "#In the above example Person is a class that defines attributes (name and occupation) and a method (introduction).\n"
      ],
      "metadata": {
        "id": "CGb49bjTPJ1z"
      },
      "execution_count": null,
      "outputs": []
    },
    {
      "cell_type": "markdown",
      "source": [
        "4. What are attributes and methods in a class?\n",
        "\n",
        "**Attributes** are variables that store data associated with an object. They define the state or characteristics of the object. Each object created from a class has its own set of attribute values. Attributes are defined within the class and can be accessed and modified using dot notation on object instances.\n",
        "\n",
        "**Methods** are functions that are defined within a class and operate on the attributes of objects created from that class. They define the behavior of objects and are used to perform actions, calculations, or other operations related to the object's data.\n"
      ],
      "metadata": {
        "id": "BflKMhL3SR8k"
      }
    },
    {
      "cell_type": "code",
      "source": [
        "class Person:\n",
        "   def __init__(self,name,occupation):\n",
        "            self.name=name\n",
        "            self.occupation=occupation\n",
        "def introduction(self):\n",
        "        print(f\"Hi, I'm {self.name} and I'm a {self.occupation}.\")\n",
        "\n",
        "person1 = Person(\"Neha\", \"Student\")\n",
        "\n",
        "#In the example Person is a class that defines attributes (name and occupation) and a method (introduction).\n"
      ],
      "metadata": {
        "id": "5qZx_oi2PJ4Y"
      },
      "execution_count": 13,
      "outputs": []
    },
    {
      "cell_type": "markdown",
      "source": [
        "5.\tWhat is the difference between class variables and instance variables in Python?\n",
        "\n",
        "Class Variables:\n",
        "Class variables are variables that are shared among all instances (objects) of a class.\n",
        "They are defined within the class itself, outside of any methods, and are usually placed at the top of the class definition.\n",
        "\n",
        "Instance Variables:\n",
        "Instance variables are specific to individual instances (objects) of a class.\n",
        "They are defined within the constructor (__init__ method) of the class and are initialized when an object is created.\n"
      ],
      "metadata": {
        "id": "LkfM-rZdRhHl"
      }
    },
    {
      "cell_type": "code",
      "source": [
        "class Person:\n",
        "    total_people=0\n",
        "    def __init__(self, name, occupation):\n",
        "        self.name = name  # This is an instance variable\n",
        "        self.occupation = occupation  # This is an instance variable\n",
        "\n",
        "person1 = Person(\"Neha\", \"Student\")\n",
        "\n",
        "'''‘total_people’ is a class variable is used to keep track of the total number of ‘Person’ class whereas ‘name’ and 'occupation' are instance variables that hold unique data for each person object.'''\n"
      ],
      "metadata": {
        "colab": {
          "base_uri": "https://localhost:8080/",
          "height": 52
        },
        "id": "xSYFa8b4PJ6y",
        "outputId": "7fc73013-0854-45d5-95d4-a111a0cc71c8"
      },
      "execution_count": 15,
      "outputs": [
        {
          "output_type": "execute_result",
          "data": {
            "text/plain": [
              "\"‘total_people’ is a class variable is used to keep track of the total number of ‘Person’ class whereas ‘name’ and 'occupation' are instance variables that hold unique data for each person object.\""
            ],
            "application/vnd.google.colaboratory.intrinsic+json": {
              "type": "string"
            }
          },
          "metadata": {},
          "execution_count": 15
        }
      ]
    },
    {
      "cell_type": "markdown",
      "source": [
        "# 6.\tWhat is the purpose of the self parameter in Python class methods?\n",
        "The self parameter in class methods refers to the instance of the class on which the method is being invoked. It allows the method to access\n",
        "and manipulate the instance's attributes and call other methods within the class."
      ],
      "metadata": {
        "id": "nXT9-AiSQzVj"
      }
    },
    {
      "cell_type": "code",
      "source": [
        "class Person:\n",
        "    def __init__(self, name, occupation):\n",
        "        self.name = name\n",
        "        self.occupation = occupation\n",
        "\n",
        "    def introduce(self):\n",
        "        print(f\"Hello, I'm {self.name} and I'm a {self.occupation}.\")\n",
        "\n",
        "# Creating a person object\n",
        "person1 = Person(\"Neha\",\"Student\")\n",
        "\n",
        "# Calling the introduce method\n",
        "person1.introduce()\n"
      ],
      "metadata": {
        "colab": {
          "base_uri": "https://localhost:8080/"
        },
        "id": "cfEOw1IeQ9Rh",
        "outputId": "46c34764-86f9-4276-f832-f12fffac5327"
      },
      "execution_count": 9,
      "outputs": [
        {
          "output_type": "stream",
          "name": "stdout",
          "text": [
            "Hello, I'm Neha and I'm a Student.\n"
          ]
        }
      ]
    },
    {
      "cell_type": "markdown",
      "source": [
        "7. For a library management system, you have to design the \"Book\" class with OOP\n",
        "principles in mind. The “Book” class will have following attributes:\n",
        "a. title: Represents the title of the book.\n",
        "b. author: Represents the author(s) of the book.\n",
        "c. isbn: Represents the ISBN (International Standard Book Number) of the book.\n",
        "d. publication_year: Represents the year of publication of the book.\n",
        "e. available_copies: Represents the number of copies available for checkout.\n",
        "The class will also include the following methods:\n",
        "a. check_out(self): Decrements the available copies by one if there are copies\n",
        "available for checkout.\n",
        "b. return_book(self): Increments the available copies by one when a book is\n",
        "returned.\n",
        "c. display_book_info(self): Displays the information about the book, including its\n",
        "attributes and the number of available copies."
      ],
      "metadata": {
        "id": "vmUMByFsQOsc"
      }
    },
    {
      "cell_type": "code",
      "source": [
        "class Book:\n",
        "    def __init__(self, title, author, isbn, publication_year, available_copies):\n",
        "        self.title = title\n",
        "        self.author = author\n",
        "        self.isbn = isbn\n",
        "        self.publication_year = publication_year\n",
        "        self.available_copies = available_copies\n",
        "\n",
        "    def check_out(self):\n",
        "        if self.available_copies > 0:\n",
        "            self.available_copies -= 1\n",
        "            print(f\"Book '{self.title}' checked out successfully.\")\n",
        "        else:\n",
        "            print(f\"No available copies of '{self.title}' for checkout.\")\n",
        "\n",
        "    def return_book(self):\n",
        "        self.available_copies += 1\n",
        "        print(f\"Book '{self.title}' returned successfully.\")\n",
        "\n",
        "    def display_book_info(self):\n",
        "        print(f\"Title: {self.title}\")\n",
        "        print(f\"Author(s): {self.author}\")\n",
        "        print(f\"ISBN: {self.isbn}\")\n",
        "        print(f\"Publication Year: {self.publication_year}\")\n",
        "        print(f\"Available Copies: {self.available_copies}\")\n",
        "\n",
        "# Creating a book object\n",
        "book1 = Book(\"Pride and Prejudice\", \"Jane Austen\", \"978-0-1414-3951-8\", 1813, 5)\n",
        "\n",
        "# Checking out and returning the book\n",
        "book1.check_out()\n",
        "book1.return_book()\n",
        "\n",
        "# Displaying book information\n",
        "book1.display_book_info()\n"
      ],
      "metadata": {
        "colab": {
          "base_uri": "https://localhost:8080/"
        },
        "id": "WUXdfICCPJ9X",
        "outputId": "c7b2690d-e8e5-44c0-e800-797a3d49301e"
      },
      "execution_count": 6,
      "outputs": [
        {
          "output_type": "stream",
          "name": "stdout",
          "text": [
            "Book 'Pride and Prejudice' checked out successfully.\n",
            "Book 'Pride and Prejudice' returned successfully.\n",
            "Title: Pride and Prejudice\n",
            "Author(s): Jane Austen\n",
            "ISBN: 978-0-1414-3951-8\n",
            "Publication Year: 1813\n",
            "Available Copies: 5\n"
          ]
        }
      ]
    },
    {
      "cell_type": "markdown",
      "source": [
        "8. For a ticket booking system, you have to design the \"Ticket\" class with OOP\n",
        "principles in mind. The “Ticket” class should have the following attributes:\n",
        "a. ticket_id: Represents the unique identifier for the ticket.\n",
        "b. event_name: Represents the name of the event.\n",
        "c. event_date: Represents the date of the event.\n",
        "d. venue: Represents the venue of the event.\n",
        "e. seat_number: Represents the seat number associated with the ticket.\n",
        "f. price: Represents the price of the ticket.\n",
        "g. is_reserved: Represents the reservation status of the ticket.\n",
        "The class also includes the following methods:\n",
        "a. reserve_ticket(self): Marks the ticket as reserved if it is not already reserved.\n",
        "b. cancel_reservation(self): Cancels the reservation of the ticket if it is already\n",
        "reserved.\n",
        "c. display_ticket_info(self): Displays the information about the ticket, including its\n",
        "attributes and reservation status."
      ],
      "metadata": {
        "id": "pYfnH1zAQAMQ"
      }
    },
    {
      "cell_type": "code",
      "source": [
        "class Ticket:\n",
        "    def __init__(self, ticket_id, event_name, event_date, venue, seat_number, price, is_reserved=False):\n",
        "        self.ticket_id = ticket_id\n",
        "        self.event_name = event_name\n",
        "        self.event_date = event_date\n",
        "        self.venue = venue\n",
        "        self.seat_number = seat_number\n",
        "        self.price = price\n",
        "        self.is_reserved = is_reserved\n",
        "\n",
        "    def reserve_ticket(self):\n",
        "        if not self.is_reserved:\n",
        "            self.is_reserved = True\n",
        "            print(f\"Ticket {self.ticket_id} reserved successfully.\")\n",
        "        else:\n",
        "            print(f\"Ticket {self.ticket_id} is already reserved.\")\n",
        "\n",
        "    def cancel_reservation(self):\n",
        "        if self.is_reserved:\n",
        "            self.is_reserved = False\n",
        "            print(f\"Reservation for ticket {self.ticket_id} canceled.\")\n",
        "        else:\n",
        "            print(f\"Ticket {self.ticket_id} is not reserved.\")\n",
        "\n",
        "    def display_ticket_info(self):\n",
        "        print(f\"Ticket ID: {self.ticket_id}\")\n",
        "        print(f\"Event Name: {self.event_name}\")\n",
        "        print(f\"Event Date: {self.event_date}\")\n",
        "        print(f\"Venue: {self.venue}\")\n",
        "        print(f\"Seat Number: {self.seat_number}\")\n",
        "        print(f\"Price: {self.price}\")\n",
        "        print(f\"Reservation Status: {'Reserved' if self.is_reserved else 'Not Reserved'}\")\n",
        "\n",
        "# Creating a ticket object\n",
        "ticket1 = Ticket(\"T123\", \"Concert\", \"2023-09-15\", \"Music Hall\", \"A12\", 50.00)\n",
        "\n",
        "# Reserving and canceling reservation\n",
        "ticket1.reserve_ticket()\n",
        "ticket1.cancel_reservation()\n",
        "\n",
        "# Displaying ticket information\n",
        "ticket1.display_ticket_info()\n"
      ],
      "metadata": {
        "colab": {
          "base_uri": "https://localhost:8080/"
        },
        "id": "QyPTDAnfPJ_q",
        "outputId": "d29a16a6-a1a9-430a-9a49-aeab91a788f5"
      },
      "execution_count": 4,
      "outputs": [
        {
          "output_type": "stream",
          "name": "stdout",
          "text": [
            "Ticket T123 reserved successfully.\n",
            "Reservation for ticket T123 canceled.\n",
            "Ticket ID: T123\n",
            "Event Name: Concert\n",
            "Event Date: 2023-09-15\n",
            "Venue: Music Hall\n",
            "Seat Number: A12\n",
            "Price: 50.0\n",
            "Reservation Status: Not Reserved\n"
          ]
        }
      ]
    },
    {
      "cell_type": "markdown",
      "source": [
        "9. You are creating a shopping cart for an e-commerce website. Using OOP to model\n",
        "the \"ShoppingCart\" functionality the class should contain following attributes and\n",
        "methods:\n",
        "a. items: Represents the list of items in the shopping cart.\n",
        "\n",
        "The class also includes the following methods:\n",
        "\n",
        "a. add_item(self, item): Adds an item to the shopping cart by appending it to the list of items.\n",
        "b. remove_item(self, item): Removes an item from the shopping cart if it exists in the list.\n",
        "c. view_cart(self): Displays the items currently present in the shopping cart.\n",
        "d. clear_cart(self): Clears all items from the shopping cart by reassigning an\n",
        "empty list to the items attribute."
      ],
      "metadata": {
        "id": "u4feQrBqPw8H"
      }
    },
    {
      "cell_type": "code",
      "source": [
        "class ShoppingCart:\n",
        "    def __init__(self):\n",
        "        self.items = []\n",
        "\n",
        "    def add_item(self, item):\n",
        "        self.items.append(item)\n",
        "        print(f\"Item '{item}' added to the shopping cart.\")\n",
        "\n",
        "    def remove_item(self, item):\n",
        "        if item in self.items:\n",
        "            self.items.remove(item)\n",
        "            print(f\"Item '{item}' removed from the shopping cart.\")\n",
        "        else:\n",
        "            print(f\"Item '{item}' not found in the shopping cart.\")\n",
        "\n",
        "    def view_cart(self):\n",
        "        if self.items:\n",
        "            print(\"Items in the shopping cart:\")\n",
        "            for item in self.items:\n",
        "                print(item)\n",
        "        else:\n",
        "            print(\"The shopping cart is empty.\")\n",
        "\n",
        "    def clear_cart(self):\n",
        "        self.items = []\n",
        "        print(\"Shopping cart cleared.\")\n",
        "\n",
        "# Creating a shopping cart object\n",
        "cart = ShoppingCart()\n",
        "\n",
        "# Adding items to the cart\n",
        "cart.add_item(\"Laptop\")\n",
        "cart.add_item(\"Headphones\")\n",
        "cart.add_item(\"Phone\")\n",
        "\n",
        "# Viewing the cart\n",
        "cart.view_cart()\n",
        "\n",
        "# Removing an item\n",
        "cart.remove_item(\"Headphones\")\n",
        "\n",
        "# Clearing the cart\n",
        "cart.clear_cart()\n",
        "\n",
        "# Viewing the cart after clearing\n",
        "cart.view_cart()\n"
      ],
      "metadata": {
        "colab": {
          "base_uri": "https://localhost:8080/"
        },
        "id": "JWHinezGPKCg",
        "outputId": "3fd0668f-b495-4095-8057-5e9fa81d9c50"
      },
      "execution_count": 3,
      "outputs": [
        {
          "output_type": "stream",
          "name": "stdout",
          "text": [
            "Item 'Laptop' added to the shopping cart.\n",
            "Item 'Headphones' added to the shopping cart.\n",
            "Item 'Phone' added to the shopping cart.\n",
            "Items in the shopping cart:\n",
            "Laptop\n",
            "Headphones\n",
            "Phone\n",
            "Item 'Headphones' removed from the shopping cart.\n",
            "Shopping cart cleared.\n",
            "The shopping cart is empty.\n"
          ]
        }
      ]
    },
    {
      "cell_type": "markdown",
      "source": [
        "10. Imagine a school management system. You have to design the \"Student\" class using\n",
        "OOP concepts.The “Student” class has the following attributes:\n",
        "a. name: Represents the name of the student.\n",
        "b. age: Represents the age of the student.\n",
        "c. grade: Represents the grade or class of the student.\n",
        "d. student_id: Represents the unique identifier for the student.\n",
        "e. attendance: Represents the attendance record of the student.\n",
        "The class should also include the following methods:\n",
        "a. update_attendance(self, date, status): Updates the attendance record of the\n",
        "student for a given date with the provided status (e.g., present or absent).\n",
        "b. get_attendance(self): Returns the attendance record of the student.\n",
        "c. get_average_attendance(self): Calculates and returns the average\n",
        "attendance percentage of the student based on their attendance record."
      ],
      "metadata": {
        "id": "_3WUhBklPQ3L"
      }
    },
    {
      "cell_type": "code",
      "source": [
        "class Student:\n",
        "    def __init__(self, name, age, grade, student_id):\n",
        "        self.name = name\n",
        "        self.age = age\n",
        "        self.grade = grade\n",
        "        self.student_id = student_id\n",
        "        self.attendance = {}  # A dictionary to store attendance records\n",
        "\n",
        "    def update_attendance(self, date, status):\n",
        "        if status.lower() in ['present', 'absent']:\n",
        "            self.attendance[date] = status.lower()\n",
        "            print(f\"Attendance updated for {self.name} on {date}: {status}\")\n",
        "        else:\n",
        "            print(\"Invalid attendance status. Please use 'present' or 'absent'.\")\n",
        "\n",
        "    def get_attendance(self):\n",
        "        return self.attendance\n",
        "\n",
        "    def get_average_attendance(self):\n",
        "        total_days = len(self.attendance)\n",
        "        if total_days == 0:\n",
        "            return 0.0\n",
        "\n",
        "        present_days = sum(1 for status in self.attendance.values() if status == 'present')\n",
        "        average_percentage = (present_days / total_days) * 100\n",
        "        return average_percentage\n",
        "\n",
        "# Creating a student object\n",
        "student1 = Student(\"Neha\", 15, 10, \"G12345\")\n",
        "\n",
        "# Updating attendance\n",
        "student1.update_attendance(\"2023-08-10\", \"present\")\n",
        "student1.update_attendance(\"2023-08-11\", \"absent\")\n",
        "student1.update_attendance(\"2023-08-12\", \"present\")\n",
        "\n",
        "# Getting attendance record\n",
        "attendance_record = student1.get_attendance()\n",
        "print(\"Attendance Record:\")\n",
        "for date, status in attendance_record.items():\n",
        "    print(f\"{date}: {status}\")\n",
        "\n",
        "# Getting average attendance\n",
        "average_attendance = student1.get_average_attendance()\n",
        "print(f\"Average Attendance: {average_attendance:.2f}%\")\n"
      ],
      "metadata": {
        "colab": {
          "base_uri": "https://localhost:8080/"
        },
        "id": "xWpsERKXPKFG",
        "outputId": "f52da62b-3ff6-476f-bf51-755dfffc287e"
      },
      "execution_count": 2,
      "outputs": [
        {
          "output_type": "stream",
          "name": "stdout",
          "text": [
            "Attendance updated for Neha on 2023-08-10: present\n",
            "Attendance updated for Neha on 2023-08-11: absent\n",
            "Attendance updated for Neha on 2023-08-12: present\n",
            "Attendance Record:\n",
            "2023-08-10: present\n",
            "2023-08-11: absent\n",
            "2023-08-12: present\n",
            "Average Attendance: 66.67%\n"
          ]
        }
      ]
    }
  ]
}